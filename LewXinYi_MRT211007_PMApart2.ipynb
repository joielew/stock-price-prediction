{
 "cells": [
  {
   "cell_type": "markdown",
   "metadata": {
    "id": "bioRa_u3rtgj"
   },
   "source": [
    "# **MRTB1153 - PMA Part 2**\n",
    "## **Title: Netflix Stock Price Prediction Using Machine Learning**\n",
    "![netflixpic.png](data:image/png;base64,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)\n",
    "## Name: Lew Xin Yi\n",
    "## Student ID: MRT211007\n",
    "## Lecturer: Dr. Siti Sophiayati Yuhaniz\n",
    "\n",
    "**Data source: https://www.kaggle.com/datasets/jainilcoder/netflix-stock-price-prediction**\n",
    "\n",
    "**Data: 5 year Netflix Stock Price from 5th Febraury 2018 to 5th February 2022**"
   ]
  },
  {
   "cell_type": "markdown",
   "metadata": {
    "id": "MzYKASsPt6CI"
   },
   "source": [
    "## **Exploratory Data Analysis**"
   ]
  },
  {
   "cell_type": "code",
   "execution_count": 1,
   "metadata": {
    "colab": {
     "base_uri": "https://localhost:8080/"
    },
    "id": "gwQujL6a-_iH",
    "outputId": "ff9b2de7-28a4-4c49-86e7-67b18ffa74cc"
   },
   "outputs": [
    {
     "name": "stdout",
     "output_type": "stream",
     "text": [
      "Drive already mounted at /content/drive; to attempt to forcibly remount, call drive.mount(\"/content/drive\", force_remount=True).\n"
     ]
    }
   ],
   "source": [
    "from google.colab import drive\n",
    "drive.mount('/content/drive')"
   ]
  },
  {
   "cell_type": "code",
   "execution_count": 1,
   "metadata": {
    "id": "MQ_FXli-7ZLw"
   },
   "outputs": [],
   "source": [
    "#import required libraries\n",
    "import pandas as pd\n",
    "from matplotlib import pyplot as plt\n",
    "import seaborn as sns\n",
    "import numpy as np"
   ]
  },
  {
   "cell_type": "code",
   "execution_count": 2,
   "metadata": {
    "id": "liaVFgQ7-9Oz"
   },
   "outputs": [],
   "source": [
    "#read Netflix stock data as dataframe\n",
    "stock = pd.read_csv('/content/drive/MyDrive/NFLX.csv')"
   ]
  },
  {
   "cell_type": "code",
   "execution_count": 4,
   "metadata": {
    "colab": {
     "base_uri": "https://localhost:8080/",
     "height": 250
    },
    "id": "4o-8cZMw_fcb",
    "outputId": "b48afbb6-7742-470f-85c4-be79cf50d774"
   },
   "outputs": [
    {
     "data": {
      "text/html": [
       "\n",
       "  <div id=\"df-b071544c-c50a-41ce-88f0-da4d2432235a\">\n",
       "    <div class=\"colab-df-container\">\n",
       "      <div>\n",
       "<style scoped>\n",
       "    .dataframe tbody tr th:only-of-type {\n",
       "        vertical-align: middle;\n",
       "    }\n",
       "\n",
       "    .dataframe tbody tr th {\n",
       "        vertical-align: top;\n",
       "    }\n",
       "\n",
       "    .dataframe thead th {\n",
       "        text-align: right;\n",
       "    }\n",
       "</style>\n",
       "<table border=\"1\" class=\"dataframe\">\n",
       "  <thead>\n",
       "    <tr style=\"text-align: right;\">\n",
       "      <th></th>\n",
       "      <th>Date</th>\n",
       "      <th>Open</th>\n",
       "      <th>High</th>\n",
       "      <th>Low</th>\n",
       "      <th>Close</th>\n",
       "      <th>Adj Close</th>\n",
       "      <th>Volume</th>\n",
       "    </tr>\n",
       "  </thead>\n",
       "  <tbody>\n",
       "    <tr>\n",
       "      <th>0</th>\n",
       "      <td>2018-02-05</td>\n",
       "      <td>262.000000</td>\n",
       "      <td>267.899994</td>\n",
       "      <td>250.029999</td>\n",
       "      <td>254.259995</td>\n",
       "      <td>254.259995</td>\n",
       "      <td>11896100</td>\n",
       "    </tr>\n",
       "    <tr>\n",
       "      <th>1</th>\n",
       "      <td>2018-02-06</td>\n",
       "      <td>247.699997</td>\n",
       "      <td>266.700012</td>\n",
       "      <td>245.000000</td>\n",
       "      <td>265.720001</td>\n",
       "      <td>265.720001</td>\n",
       "      <td>12595800</td>\n",
       "    </tr>\n",
       "    <tr>\n",
       "      <th>2</th>\n",
       "      <td>2018-02-07</td>\n",
       "      <td>266.579987</td>\n",
       "      <td>272.450012</td>\n",
       "      <td>264.329987</td>\n",
       "      <td>264.559998</td>\n",
       "      <td>264.559998</td>\n",
       "      <td>8981500</td>\n",
       "    </tr>\n",
       "    <tr>\n",
       "      <th>3</th>\n",
       "      <td>2018-02-08</td>\n",
       "      <td>267.079987</td>\n",
       "      <td>267.619995</td>\n",
       "      <td>250.000000</td>\n",
       "      <td>250.100006</td>\n",
       "      <td>250.100006</td>\n",
       "      <td>9306700</td>\n",
       "    </tr>\n",
       "    <tr>\n",
       "      <th>4</th>\n",
       "      <td>2018-02-09</td>\n",
       "      <td>253.850006</td>\n",
       "      <td>255.800003</td>\n",
       "      <td>236.110001</td>\n",
       "      <td>249.470001</td>\n",
       "      <td>249.470001</td>\n",
       "      <td>16906900</td>\n",
       "    </tr>\n",
       "  </tbody>\n",
       "</table>\n",
       "</div>\n",
       "      <button class=\"colab-df-convert\" onclick=\"convertToInteractive('df-b071544c-c50a-41ce-88f0-da4d2432235a')\"\n",
       "              title=\"Convert this dataframe to an interactive table.\"\n",
       "              style=\"display:none;\">\n",
       "        \n",
       "  <svg xmlns=\"http://www.w3.org/2000/svg\" height=\"24px\"viewBox=\"0 0 24 24\"\n",
       "       width=\"24px\">\n",
       "    <path d=\"M0 0h24v24H0V0z\" fill=\"none\"/>\n",
       "    <path d=\"M18.56 5.44l.94 2.06.94-2.06 2.06-.94-2.06-.94-.94-2.06-.94 2.06-2.06.94zm-11 1L8.5 8.5l.94-2.06 2.06-.94-2.06-.94L8.5 2.5l-.94 2.06-2.06.94zm10 10l.94 2.06.94-2.06 2.06-.94-2.06-.94-.94-2.06-.94 2.06-2.06.94z\"/><path d=\"M17.41 7.96l-1.37-1.37c-.4-.4-.92-.59-1.43-.59-.52 0-1.04.2-1.43.59L10.3 9.45l-7.72 7.72c-.78.78-.78 2.05 0 2.83L4 21.41c.39.39.9.59 1.41.59.51 0 1.02-.2 1.41-.59l7.78-7.78 2.81-2.81c.8-.78.8-2.07 0-2.86zM5.41 20L4 18.59l7.72-7.72 1.47 1.35L5.41 20z\"/>\n",
       "  </svg>\n",
       "      </button>\n",
       "      \n",
       "  <style>\n",
       "    .colab-df-container {\n",
       "      display:flex;\n",
       "      flex-wrap:wrap;\n",
       "      gap: 12px;\n",
       "    }\n",
       "\n",
       "    .colab-df-convert {\n",
       "      background-color: #E8F0FE;\n",
       "      border: none;\n",
       "      border-radius: 50%;\n",
       "      cursor: pointer;\n",
       "      display: none;\n",
       "      fill: #1967D2;\n",
       "      height: 32px;\n",
       "      padding: 0 0 0 0;\n",
       "      width: 32px;\n",
       "    }\n",
       "\n",
       "    .colab-df-convert:hover {\n",
       "      background-color: #E2EBFA;\n",
       "      box-shadow: 0px 1px 2px rgba(60, 64, 67, 0.3), 0px 1px 3px 1px rgba(60, 64, 67, 0.15);\n",
       "      fill: #174EA6;\n",
       "    }\n",
       "\n",
       "    [theme=dark] .colab-df-convert {\n",
       "      background-color: #3B4455;\n",
       "      fill: #D2E3FC;\n",
       "    }\n",
       "\n",
       "    [theme=dark] .colab-df-convert:hover {\n",
       "      background-color: #434B5C;\n",
       "      box-shadow: 0px 1px 3px 1px rgba(0, 0, 0, 0.15);\n",
       "      filter: drop-shadow(0px 1px 2px rgba(0, 0, 0, 0.3));\n",
       "      fill: #FFFFFF;\n",
       "    }\n",
       "  </style>\n",
       "\n",
       "      <script>\n",
       "        const buttonEl =\n",
       "          document.querySelector('#df-b071544c-c50a-41ce-88f0-da4d2432235a button.colab-df-convert');\n",
       "        buttonEl.style.display =\n",
       "          google.colab.kernel.accessAllowed ? 'block' : 'none';\n",
       "\n",
       "        async function convertToInteractive(key) {\n",
       "          const element = document.querySelector('#df-b071544c-c50a-41ce-88f0-da4d2432235a');\n",
       "          const dataTable =\n",
       "            await google.colab.kernel.invokeFunction('convertToInteractive',\n",
       "                                                     [key], {});\n",
       "          if (!dataTable) return;\n",
       "\n",
       "          const docLinkHtml = 'Like what you see? Visit the ' +\n",
       "            '<a target=\"_blank\" href=https://colab.research.google.com/notebooks/data_table.ipynb>data table notebook</a>'\n",
       "            + ' to learn more about interactive tables.';\n",
       "          element.innerHTML = '';\n",
       "          dataTable['output_type'] = 'display_data';\n",
       "          await google.colab.output.renderOutput(dataTable, element);\n",
       "          const docLink = document.createElement('div');\n",
       "          docLink.innerHTML = docLinkHtml;\n",
       "          element.appendChild(docLink);\n",
       "        }\n",
       "      </script>\n",
       "    </div>\n",
       "  </div>\n",
       "  "
      ],
      "text/plain": [
       "         Date        Open        High         Low       Close   Adj Close  \\\n",
       "0  2018-02-05  262.000000  267.899994  250.029999  254.259995  254.259995   \n",
       "1  2018-02-06  247.699997  266.700012  245.000000  265.720001  265.720001   \n",
       "2  2018-02-07  266.579987  272.450012  264.329987  264.559998  264.559998   \n",
       "3  2018-02-08  267.079987  267.619995  250.000000  250.100006  250.100006   \n",
       "4  2018-02-09  253.850006  255.800003  236.110001  249.470001  249.470001   \n",
       "\n",
       "     Volume  \n",
       "0  11896100  \n",
       "1  12595800  \n",
       "2   8981500  \n",
       "3   9306700  \n",
       "4  16906900  "
      ]
     },
     "execution_count": 4,
     "metadata": {},
     "output_type": "execute_result"
    }
   ],
   "source": [
    "#view the top 5 rows of the dataframe to check whether the correct data is called\n",
    "stock.head()"
   ]
  },
  {
   "cell_type": "markdown",
   "metadata": {
    "id": "VEtmkPS_vLwE"
   },
   "source": [
    "By looking at the dataframe, there are 7 variables involved in the Netflix's stock raw dataset. \n",
    "\n",
    "Variables:\n",
    "1. **Date**: Everyday Netflix stock price\n",
    "2. **Open**: Price at which Netflix stock is opened\n",
    "3. **High**: The highest price at which Netflix stock traded during the trading day\n",
    "4. **Low**: The lowest price at which Netflix stock trades over a trading day\n",
    "5. **Close**: The last price at which Netflix stock trades during a trading day\n",
    "6. **Adj Close**: The closing price of Netflix stock after paying off dividends and/or capital gain distributions\n",
    "7. **Volume**: Volume of stock traded during a trading day"
   ]
  },
  {
   "cell_type": "code",
   "execution_count": 5,
   "metadata": {
    "colab": {
     "base_uri": "https://localhost:8080/"
    },
    "id": "Bz2CBMte_hav",
    "outputId": "35f4e7ff-b9a7-4685-dcb6-a5f179db4f0b"
   },
   "outputs": [
    {
     "name": "stdout",
     "output_type": "stream",
     "text": [
      "<class 'pandas.core.frame.DataFrame'>\n",
      "RangeIndex: 1009 entries, 0 to 1008\n",
      "Data columns (total 7 columns):\n",
      " #   Column     Non-Null Count  Dtype  \n",
      "---  ------     --------------  -----  \n",
      " 0   Date       1009 non-null   object \n",
      " 1   Open       1009 non-null   float64\n",
      " 2   High       1009 non-null   float64\n",
      " 3   Low        1009 non-null   float64\n",
      " 4   Close      1009 non-null   float64\n",
      " 5   Adj Close  1009 non-null   float64\n",
      " 6   Volume     1009 non-null   int64  \n",
      "dtypes: float64(5), int64(1), object(1)\n",
      "memory usage: 55.3+ KB\n"
     ]
    }
   ],
   "source": [
    "#check the columns information \n",
    "stock.info()"
   ]
  },
  {
   "cell_type": "code",
   "execution_count": 7,
   "metadata": {
    "colab": {
     "base_uri": "https://localhost:8080/"
    },
    "id": "BD3AUQr8_l4n",
    "outputId": "b358a6b1-cb7d-475b-8e1f-faac60000a58"
   },
   "outputs": [
    {
     "data": {
      "text/plain": [
       "(1009, 7)"
      ]
     },
     "execution_count": 7,
     "metadata": {},
     "output_type": "execute_result"
    }
   ],
   "source": [
    "#check the total number of rows and columns in the dataframe\n",
    "stock.shape"
   ]
  },
  {
   "cell_type": "markdown",
   "metadata": {
    "id": "blRn9yIixs6x"
   },
   "source": [
    "- There are total 7 variables with 1009 records. "
   ]
  },
  {
   "cell_type": "code",
   "execution_count": 8,
   "metadata": {
    "colab": {
     "base_uri": "https://localhost:8080/",
     "height": 344
    },
    "id": "Hh9kFbv3_qTO",
    "outputId": "dbf0b62b-57ae-4ec9-e6d3-7b2ed4446b15"
   },
   "outputs": [
    {
     "data": {
      "text/html": [
       "\n",
       "  <div id=\"df-c8430c88-9c63-4500-9d37-6d8d592863f2\">\n",
       "    <div class=\"colab-df-container\">\n",
       "      <div>\n",
       "<style scoped>\n",
       "    .dataframe tbody tr th:only-of-type {\n",
       "        vertical-align: middle;\n",
       "    }\n",
       "\n",
       "    .dataframe tbody tr th {\n",
       "        vertical-align: top;\n",
       "    }\n",
       "\n",
       "    .dataframe thead th {\n",
       "        text-align: right;\n",
       "    }\n",
       "</style>\n",
       "<table border=\"1\" class=\"dataframe\">\n",
       "  <thead>\n",
       "    <tr style=\"text-align: right;\">\n",
       "      <th></th>\n",
       "      <th>Open</th>\n",
       "      <th>High</th>\n",
       "      <th>Low</th>\n",
       "      <th>Close</th>\n",
       "      <th>Adj Close</th>\n",
       "      <th>Volume</th>\n",
       "    </tr>\n",
       "  </thead>\n",
       "  <tbody>\n",
       "    <tr>\n",
       "      <th>count</th>\n",
       "      <td>1009.000000</td>\n",
       "      <td>1009.000000</td>\n",
       "      <td>1009.000000</td>\n",
       "      <td>1009.000000</td>\n",
       "      <td>1009.000000</td>\n",
       "      <td>1.009000e+03</td>\n",
       "    </tr>\n",
       "    <tr>\n",
       "      <th>mean</th>\n",
       "      <td>419.059673</td>\n",
       "      <td>425.320703</td>\n",
       "      <td>412.374044</td>\n",
       "      <td>419.000733</td>\n",
       "      <td>419.000733</td>\n",
       "      <td>7.570685e+06</td>\n",
       "    </tr>\n",
       "    <tr>\n",
       "      <th>std</th>\n",
       "      <td>108.537532</td>\n",
       "      <td>109.262960</td>\n",
       "      <td>107.555867</td>\n",
       "      <td>108.289999</td>\n",
       "      <td>108.289999</td>\n",
       "      <td>5.465535e+06</td>\n",
       "    </tr>\n",
       "    <tr>\n",
       "      <th>min</th>\n",
       "      <td>233.919998</td>\n",
       "      <td>250.649994</td>\n",
       "      <td>231.229996</td>\n",
       "      <td>233.880005</td>\n",
       "      <td>233.880005</td>\n",
       "      <td>1.144000e+06</td>\n",
       "    </tr>\n",
       "    <tr>\n",
       "      <th>25%</th>\n",
       "      <td>331.489990</td>\n",
       "      <td>336.299988</td>\n",
       "      <td>326.000000</td>\n",
       "      <td>331.619995</td>\n",
       "      <td>331.619995</td>\n",
       "      <td>4.091900e+06</td>\n",
       "    </tr>\n",
       "    <tr>\n",
       "      <th>50%</th>\n",
       "      <td>377.769989</td>\n",
       "      <td>383.010010</td>\n",
       "      <td>370.880005</td>\n",
       "      <td>378.670013</td>\n",
       "      <td>378.670013</td>\n",
       "      <td>5.934500e+06</td>\n",
       "    </tr>\n",
       "    <tr>\n",
       "      <th>75%</th>\n",
       "      <td>509.130005</td>\n",
       "      <td>515.630005</td>\n",
       "      <td>502.529999</td>\n",
       "      <td>509.079987</td>\n",
       "      <td>509.079987</td>\n",
       "      <td>9.322400e+06</td>\n",
       "    </tr>\n",
       "    <tr>\n",
       "      <th>max</th>\n",
       "      <td>692.349976</td>\n",
       "      <td>700.989990</td>\n",
       "      <td>686.090027</td>\n",
       "      <td>691.690002</td>\n",
       "      <td>691.690002</td>\n",
       "      <td>5.890430e+07</td>\n",
       "    </tr>\n",
       "  </tbody>\n",
       "</table>\n",
       "</div>\n",
       "      <button class=\"colab-df-convert\" onclick=\"convertToInteractive('df-c8430c88-9c63-4500-9d37-6d8d592863f2')\"\n",
       "              title=\"Convert this dataframe to an interactive table.\"\n",
       "              style=\"display:none;\">\n",
       "        \n",
       "  <svg xmlns=\"http://www.w3.org/2000/svg\" height=\"24px\"viewBox=\"0 0 24 24\"\n",
       "       width=\"24px\">\n",
       "    <path d=\"M0 0h24v24H0V0z\" fill=\"none\"/>\n",
       "    <path d=\"M18.56 5.44l.94 2.06.94-2.06 2.06-.94-2.06-.94-.94-2.06-.94 2.06-2.06.94zm-11 1L8.5 8.5l.94-2.06 2.06-.94-2.06-.94L8.5 2.5l-.94 2.06-2.06.94zm10 10l.94 2.06.94-2.06 2.06-.94-2.06-.94-.94-2.06-.94 2.06-2.06.94z\"/><path d=\"M17.41 7.96l-1.37-1.37c-.4-.4-.92-.59-1.43-.59-.52 0-1.04.2-1.43.59L10.3 9.45l-7.72 7.72c-.78.78-.78 2.05 0 2.83L4 21.41c.39.39.9.59 1.41.59.51 0 1.02-.2 1.41-.59l7.78-7.78 2.81-2.81c.8-.78.8-2.07 0-2.86zM5.41 20L4 18.59l7.72-7.72 1.47 1.35L5.41 20z\"/>\n",
       "  </svg>\n",
       "      </button>\n",
       "      \n",
       "  <style>\n",
       "    .colab-df-container {\n",
       "      display:flex;\n",
       "      flex-wrap:wrap;\n",
       "      gap: 12px;\n",
       "    }\n",
       "\n",
       "    .colab-df-convert {\n",
       "      background-color: #E8F0FE;\n",
       "      border: none;\n",
       "      border-radius: 50%;\n",
       "      cursor: pointer;\n",
       "      display: none;\n",
       "      fill: #1967D2;\n",
       "      height: 32px;\n",
       "      padding: 0 0 0 0;\n",
       "      width: 32px;\n",
       "    }\n",
       "\n",
       "    .colab-df-convert:hover {\n",
       "      background-color: #E2EBFA;\n",
       "      box-shadow: 0px 1px 2px rgba(60, 64, 67, 0.3), 0px 1px 3px 1px rgba(60, 64, 67, 0.15);\n",
       "      fill: #174EA6;\n",
       "    }\n",
       "\n",
       "    [theme=dark] .colab-df-convert {\n",
       "      background-color: #3B4455;\n",
       "      fill: #D2E3FC;\n",
       "    }\n",
       "\n",
       "    [theme=dark] .colab-df-convert:hover {\n",
       "      background-color: #434B5C;\n",
       "      box-shadow: 0px 1px 3px 1px rgba(0, 0, 0, 0.15);\n",
       "      filter: drop-shadow(0px 1px 2px rgba(0, 0, 0, 0.3));\n",
       "      fill: #FFFFFF;\n",
       "    }\n",
       "  </style>\n",
       "\n",
       "      <script>\n",
       "        const buttonEl =\n",
       "          document.querySelector('#df-c8430c88-9c63-4500-9d37-6d8d592863f2 button.colab-df-convert');\n",
       "        buttonEl.style.display =\n",
       "          google.colab.kernel.accessAllowed ? 'block' : 'none';\n",
       "\n",
       "        async function convertToInteractive(key) {\n",
       "          const element = document.querySelector('#df-c8430c88-9c63-4500-9d37-6d8d592863f2');\n",
       "          const dataTable =\n",
       "            await google.colab.kernel.invokeFunction('convertToInteractive',\n",
       "                                                     [key], {});\n",
       "          if (!dataTable) return;\n",
       "\n",
       "          const docLinkHtml = 'Like what you see? Visit the ' +\n",
       "            '<a target=\"_blank\" href=https://colab.research.google.com/notebooks/data_table.ipynb>data table notebook</a>'\n",
       "            + ' to learn more about interactive tables.';\n",
       "          element.innerHTML = '';\n",
       "          dataTable['output_type'] = 'display_data';\n",
       "          await google.colab.output.renderOutput(dataTable, element);\n",
       "          const docLink = document.createElement('div');\n",
       "          docLink.innerHTML = docLinkHtml;\n",
       "          element.appendChild(docLink);\n",
       "        }\n",
       "      </script>\n",
       "    </div>\n",
       "  </div>\n",
       "  "
      ],
      "text/plain": [
       "              Open         High          Low        Close    Adj Close  \\\n",
       "count  1009.000000  1009.000000  1009.000000  1009.000000  1009.000000   \n",
       "mean    419.059673   425.320703   412.374044   419.000733   419.000733   \n",
       "std     108.537532   109.262960   107.555867   108.289999   108.289999   \n",
       "min     233.919998   250.649994   231.229996   233.880005   233.880005   \n",
       "25%     331.489990   336.299988   326.000000   331.619995   331.619995   \n",
       "50%     377.769989   383.010010   370.880005   378.670013   378.670013   \n",
       "75%     509.130005   515.630005   502.529999   509.079987   509.079987   \n",
       "max     692.349976   700.989990   686.090027   691.690002   691.690002   \n",
       "\n",
       "             Volume  \n",
       "count  1.009000e+03  \n",
       "mean   7.570685e+06  \n",
       "std    5.465535e+06  \n",
       "min    1.144000e+06  \n",
       "25%    4.091900e+06  \n",
       "50%    5.934500e+06  \n",
       "75%    9.322400e+06  \n",
       "max    5.890430e+07  "
      ]
     },
     "execution_count": 8,
     "metadata": {},
     "output_type": "execute_result"
    }
   ],
   "source": [
    "#show the descriptive statistic for the numerical variables\n",
    "stock.describe()"
   ]
  },
  {
   "cell_type": "code",
   "execution_count": 9,
   "metadata": {
    "colab": {
     "base_uri": "https://localhost:8080/"
    },
    "id": "qYIfZNFe_vam",
    "outputId": "f9f9be36-22b5-43e1-fee9-b66b5babfaf8"
   },
   "outputs": [
    {
     "data": {
      "text/plain": [
       "Date         0\n",
       "Open         0\n",
       "High         0\n",
       "Low          0\n",
       "Close        0\n",
       "Adj Close    0\n",
       "Volume       0\n",
       "dtype: int64"
      ]
     },
     "execution_count": 9,
     "metadata": {},
     "output_type": "execute_result"
    }
   ],
   "source": [
    "#check whether there is any missing value in the data\n",
    "stock.isnull().sum()"
   ]
  },
  {
   "cell_type": "markdown",
   "metadata": {
    "id": "ziKBcOD8zAn2"
   },
   "source": [
    "- There are no missing values exist in the dataset."
   ]
  },
  {
   "cell_type": "code",
   "execution_count": 10,
   "metadata": {
    "colab": {
     "base_uri": "https://localhost:8080/",
     "height": 583
    },
    "id": "Q1lrfQU5_zsK",
    "outputId": "58587186-d5e1-4328-fddd-bea6ff667a5b"
   },
   "outputs": [
    {
     "data": {
      "text/plain": [
       "array([[<matplotlib.axes._subplots.AxesSubplot object at 0x7fa2d8149eb0>,\n",
       "        <matplotlib.axes._subplots.AxesSubplot object at 0x7fa2d80a8550>],\n",
       "       [<matplotlib.axes._subplots.AxesSubplot object at 0x7fa2d8056970>,\n",
       "        <matplotlib.axes._subplots.AxesSubplot object at 0x7fa2d8084d60>],\n",
       "       [<matplotlib.axes._subplots.AxesSubplot object at 0x7fa2d803f190>,\n",
       "        <matplotlib.axes._subplots.AxesSubplot object at 0x7fa2d7fea4c0>]],\n",
       "      dtype=object)"
      ]
     },
     "execution_count": 10,
     "metadata": {},
     "output_type": "execute_result"
    },
    {
     "data": {
      "image/png": "[encoded data removed]",
      "text/plain": [
       "<Figure size 1080x720 with 6 Axes>"
      ]
     },
     "metadata": {
      "needs_background": "light"
     },
     "output_type": "display_data"
    }
   ],
   "source": [
    "#plot the histogram for each variables\n",
    "stock.hist(figsize=(15, 10))"
   ]
  },
  {
   "cell_type": "markdown",
   "metadata": {
    "id": "CzfdwbwczGmp"
   },
   "source": [
    "- The histogram above shows the price\n",
    "distribution in 5-year for all the stock price variables like open, close, adj close, high, and low.\n",
    "\n",
    "- All the price data have two pearks which indicates that the variation of data is significant in two regions. \n",
    "\n",
    "- Meanwhile, the volume histogram shows the volume of stock by specific daily stock volume range.\n",
    "\n",
    "- Unlike the price data, the volume of Netflix stock traded is right-skewed. Right-skewed data shows that the mean is greater than the median."
   ]
  },
  {
   "cell_type": "code",
   "execution_count": 11,
   "metadata": {
    "colab": {
     "base_uri": "https://localhost:8080/",
     "height": 944
    },
    "id": "8ehYjP_4_9zf",
    "outputId": "678a0dea-ec90-4bb0-e4ac-f454058c897e"
   },
   "outputs": [
    {
     "data": {
      "text/plain": [
       "array([[<matplotlib.axes._subplots.AxesSubplot object at 0x7fa2d8062940>,\n",
       "        <matplotlib.axes._subplots.AxesSubplot object at 0x7fa2d7ba20d0>,\n",
       "        <matplotlib.axes._subplots.AxesSubplot object at 0x7fa2d7b446a0>,\n",
       "        <matplotlib.axes._subplots.AxesSubplot object at 0x7fa2d7b4c250>,\n",
       "        <matplotlib.axes._subplots.AxesSubplot object at 0x7fa2d76a6b50>,\n",
       "        <matplotlib.axes._subplots.AxesSubplot object at 0x7fa2d7e407f0>],\n",
       "       [<matplotlib.axes._subplots.AxesSubplot object at 0x7fa2d7e408e0>,\n",
       "        <matplotlib.axes._subplots.AxesSubplot object at 0x7fa2d7decd30>,\n",
       "        <matplotlib.axes._subplots.AxesSubplot object at 0x7fa2d7d564c0>,\n",
       "        <matplotlib.axes._subplots.AxesSubplot object at 0x7fa2d7d828b0>,\n",
       "        <matplotlib.axes._subplots.AxesSubplot object at 0x7fa2d7d32ca0>,\n",
       "        <matplotlib.axes._subplots.AxesSubplot object at 0x7fa2d7cdf130>],\n",
       "       [<matplotlib.axes._subplots.AxesSubplot object at 0x7fa2d7c9b4c0>,\n",
       "        <matplotlib.axes._subplots.AxesSubplot object at 0x7fa2d7cc68b0>,\n",
       "        <matplotlib.axes._subplots.AxesSubplot object at 0x7fa2d7c74ca0>,\n",
       "        <matplotlib.axes._subplots.AxesSubplot object at 0x7fa2d7c21130>,\n",
       "        <matplotlib.axes._subplots.AxesSubplot object at 0x7fa2d74114c0>,\n",
       "        <matplotlib.axes._subplots.AxesSubplot object at 0x7fa2d743f8b0>],\n",
       "       [<matplotlib.axes._subplots.AxesSubplot object at 0x7fa2d73eeca0>,\n",
       "        <matplotlib.axes._subplots.AxesSubplot object at 0x7fa2d739b130>,\n",
       "        <matplotlib.axes._subplots.AxesSubplot object at 0x7fa2d73564c0>,\n",
       "        <matplotlib.axes._subplots.AxesSubplot object at 0x7fa2d73048b0>,\n",
       "        <matplotlib.axes._subplots.AxesSubplot object at 0x7fa2d7332ca0>,\n",
       "        <matplotlib.axes._subplots.AxesSubplot object at 0x7fa2d72df130>],\n",
       "       [<matplotlib.axes._subplots.AxesSubplot object at 0x7fa2d72994f0>,\n",
       "        <matplotlib.axes._subplots.AxesSubplot object at 0x7fa2d72478e0>,\n",
       "        <matplotlib.axes._subplots.AxesSubplot object at 0x7fa2d7276cd0>,\n",
       "        <matplotlib.axes._subplots.AxesSubplot object at 0x7fa2d7222160>,\n",
       "        <matplotlib.axes._subplots.AxesSubplot object at 0x7fa2d71dc4f0>,\n",
       "        <matplotlib.axes._subplots.AxesSubplot object at 0x7fa2d71898e0>],\n",
       "       [<matplotlib.axes._subplots.AxesSubplot object at 0x7fa2d71ba7c0>,\n",
       "        <matplotlib.axes._subplots.AxesSubplot object at 0x7fa2d7166f10>,\n",
       "        <matplotlib.axes._subplots.AxesSubplot object at 0x7fa2d711e670>,\n",
       "        <matplotlib.axes._subplots.AxesSubplot object at 0x7fa2d70c9d90>,\n",
       "        <matplotlib.axes._subplots.AxesSubplot object at 0x7fa2d71004f0>,\n",
       "        <matplotlib.axes._subplots.AxesSubplot object at 0x7fa2d70a9ca0>]],\n",
       "      dtype=object)"
      ]
     },
     "execution_count": 11,
     "metadata": {},
     "output_type": "execute_result"
    },
    {
     "data": {
      "text/plain": [
       "<Figure size 504x360 with 0 Axes>"
      ]
     },
     "metadata": {},
     "output_type": "display_data"
    },
    {
     "data": {
      "image/png": "[encoded data removed]",
      "text/plain": [
       "<Figure size 432x288 with 36 Axes>"
      ]
     },
     "metadata": {
      "needs_background": "light"
     },
     "output_type": "display_data"
    }
   ],
   "source": [
    "#plot the scatter plot matrix between all variables in the data\n",
    "plt.figure(figsize=(7,5))\n",
    "pd.plotting.scatter_matrix(stock)"
   ]
  },
  {
   "cell_type": "markdown",
   "metadata": {
    "id": "yaJbr59Z0tOC"
   },
   "source": [
    "- The scatter plot matrix shows that there is an upward trend between all variables, except for the stock volume.\n",
    "\n",
    "- This indicates that all price variables (Open, High, Low, Close, Adj Close) are positively correlated."
   ]
  },
  {
   "cell_type": "code",
   "execution_count": 12,
   "metadata": {
    "colab": {
     "base_uri": "https://localhost:8080/",
     "height": 290
    },
    "id": "tJQGVkWIAFBy",
    "outputId": "0c847add-cbef-4664-dd88-4aa5421da2e4"
   },
   "outputs": [
    {
     "data": {
      "image/png": "[encoded data removed]",
      "text/plain": [
       "<Figure size 432x288 with 1 Axes>"
      ]
     },
     "metadata": {
      "needs_background": "light"
     },
     "output_type": "display_data"
    }
   ],
   "source": [
    "#plot a line graph to show the volume of stock traded across time\n",
    "lines = stock.plot.line(x='Date', y='Volume')"
   ]
  },
  {
   "cell_type": "markdown",
   "metadata": {
    "id": "mooh5GTm1LO8"
   },
   "source": [
    "- The line graph above shows that the daily volume of Netflix stock has a random component which indicates that the stock are randomly distributed over time. "
   ]
  },
  {
   "cell_type": "code",
   "execution_count": 13,
   "metadata": {
    "colab": {
     "base_uri": "https://localhost:8080/",
     "height": 341
    },
    "id": "ycHvKKg5A3lB",
    "outputId": "36bde048-2d7b-43c3-a46a-4ed91eaed355"
   },
   "outputs": [
    {
     "data": {
      "text/plain": [
       "<matplotlib.axes._subplots.AxesSubplot at 0x7fa2d76899a0>"
      ]
     },
     "execution_count": 13,
     "metadata": {},
     "output_type": "execute_result"
    },
    {
     "data": {
      "image/png": "[encoded data removed]",
      "text/plain": [
       "<Figure size 504x360 with 2 Axes>"
      ]
     },
     "metadata": {
      "needs_background": "light"
     },
     "output_type": "display_data"
    }
   ],
   "source": [
    "#check the correlation between variables using heatmap\n",
    "plt.figure(figsize=(7,5))\n",
    "sns.heatmap(stock.corr(),cmap='autumn',annot=True)"
   ]
  },
  {
   "cell_type": "markdown",
   "metadata": {
    "id": "w14cSqRQ1hjm"
   },
   "source": [
    "- Positive value of 1 indicates that most of the variables are perfectly correlated.\n",
    "\n",
    "- However, this might be due to the small differences occurred between values.\n",
    "\n",
    "- The statement make sense since small values in stock changes in the market affect the stock price movement significantly.\n"
   ]
  },
  {
   "cell_type": "code",
   "execution_count": 14,
   "metadata": {
    "colab": {
     "base_uri": "https://localhost:8080/",
     "height": 580
    },
    "id": "VYZIerPVpOZq",
    "outputId": "38e8c590-3334-47f8-b40b-b48d12fb98ed"
   },
   "outputs": [
    {
     "name": "stderr",
     "output_type": "stream",
     "text": [
      "/usr/local/lib/python3.8/dist-packages/seaborn/_decorators.py:36: FutureWarning: Pass the following variable as a keyword arg: x. From version 0.12, the only valid positional argument will be `data`, and passing other arguments without an explicit keyword will result in an error or misinterpretation.\n",
      "  warnings.warn(\n",
      "/usr/local/lib/python3.8/dist-packages/seaborn/_decorators.py:36: FutureWarning: Pass the following variable as a keyword arg: x. From version 0.12, the only valid positional argument will be `data`, and passing other arguments without an explicit keyword will result in an error or misinterpretation.\n",
      "  warnings.warn(\n",
      "/usr/local/lib/python3.8/dist-packages/seaborn/_decorators.py:36: FutureWarning: Pass the following variable as a keyword arg: x. From version 0.12, the only valid positional argument will be `data`, and passing other arguments without an explicit keyword will result in an error or misinterpretation.\n",
      "  warnings.warn(\n",
      "/usr/local/lib/python3.8/dist-packages/seaborn/_decorators.py:36: FutureWarning: Pass the following variable as a keyword arg: x. From version 0.12, the only valid positional argument will be `data`, and passing other arguments without an explicit keyword will result in an error or misinterpretation.\n",
      "  warnings.warn(\n",
      "/usr/local/lib/python3.8/dist-packages/seaborn/_decorators.py:36: FutureWarning: Pass the following variable as a keyword arg: x. From version 0.12, the only valid positional argument will be `data`, and passing other arguments without an explicit keyword will result in an error or misinterpretation.\n",
      "  warnings.warn(\n",
      "/usr/local/lib/python3.8/dist-packages/seaborn/_decorators.py:36: FutureWarning: Pass the following variable as a keyword arg: x. From version 0.12, the only valid positional argument will be `data`, and passing other arguments without an explicit keyword will result in an error or misinterpretation.\n",
      "  warnings.warn(\n"
     ]
    },
    {
     "data": {
      "image/png": "[encoded data removed]",
      "text/plain": [
       "<Figure size 1440x720 with 6 Axes>"
      ]
     },
     "metadata": {
      "needs_background": "light"
     },
     "output_type": "display_data"
    }
   ],
   "source": [
    "#outliers detection\n",
    "features = ['Open', 'High', 'Low', 'Close', 'Adj Close', 'Volume']\n",
    "\n",
    "plt.subplots(figsize=(20,10))\n",
    "for i, col in enumerate(features):\n",
    "  plt.subplot(2,3,i+1)\n",
    "  sns.boxplot(stock[col])\n",
    "plt.show()"
   ]
  },
  {
   "cell_type": "markdown",
   "metadata": {
    "id": "MITR0OPYrdrA"
   },
   "source": [
    "- There are no outliers exist in all the variables except the 'Volume' data. "
   ]
  },
  {
   "cell_type": "markdown",
   "metadata": {
    "id": "CtL-jofc7twT"
   },
   "source": [
    "## **Data Preparation Strategy**\n",
    "\n",
    "Data preprocessing is an essential stage that needed to be taken in data mining practice. The raw data obtained from Kaggle are not cleaned and might consists of inconsistent or missing values. Issues like missing values, redundancies, and inaccurate data might lead to data integrity and reliability problem. In effect, the machine learning algorithms unable to learn the accurate pattern and affect the model performance. Therefore, data preprocessing is important to ensure that the prediction result is not biased and has high accuracy. \n",
    "\n",
    "#### **i) Feature Engineering**\n",
    "Feature engineering refers to the extraction of new valuable features from the existing features in the stock data. Feature engineering helps to improve the speed of model training and model performance. The 'Date' will be seperated into 'day', 'month', 'year', and 'quarter'. The 'quarter' variable is important because it can largely affect the stock price changes. The 'quarter' is used to represent a group of three months.\n",
    "\n",
    "#### **ii) Data Standardization**\n",
    "The stock data invovled variables that measured at different scales like the 'Volume' and 'Close' columns. The difference between scales of variables might cause the prediction model to bias to the larger numeric value since the scales do not have an equal contribution to the model. In respect to this, the stock data should be standardize with a fixed range to ensure the machine learning models are trained well and accurately. This study applies a StandardScaler function to rescale the values between -1 and 1.   \n",
    "\n",
    "#### **iii) Cross Validation**\n",
    "Cross validation is a technique used in the evaluation of machine learning models through the training on subset data and evaluating them on complementary subset of data. Cross validation can helps to detect problems like overfitting and selection bias since it test the ability of the machine learning model on predicting new data. There are various methods that can be used in cross valdiation. This study will be using simple K-Folds that split the stock data into K parts and then K number of models will be built. Each model will then trained on K-1 parts and test on the other left part. "
   ]
  },
  {
   "cell_type": "markdown",
   "metadata": {
    "id": "oR7KibIS2oUI"
   },
   "source": [
    "## **Data Preparation Strategy Development**"
   ]
  },
  {
   "cell_type": "markdown",
   "metadata": {
    "id": "Xdg3ACGI3ACW"
   },
   "source": [
    "#### **Feature Engineering**"
   ]
  },
  {
   "cell_type": "code",
   "execution_count": 3,
   "metadata": {
    "colab": {
     "base_uri": "https://localhost:8080/",
     "height": 357
    },
    "id": "vBvfpOiN2y7I",
    "outputId": "41eb2bb3-b5f8-433c-f395-0c7f311ad33e"
   },
   "outputs": [
    {
     "data": {
      "text/html": [
       "\n",
       "  <div id=\"df-28911f08-0609-41af-a3e7-3298c4a9b503\">\n",
       "    <div class=\"colab-df-container\">\n",
       "      <div>\n",
       "<style scoped>\n",
       "    .dataframe tbody tr th:only-of-type {\n",
       "        vertical-align: middle;\n",
       "    }\n",
       "\n",
       "    .dataframe tbody tr th {\n",
       "        vertical-align: top;\n",
       "    }\n",
       "\n",
       "    .dataframe thead th {\n",
       "        text-align: right;\n",
       "    }\n",
       "</style>\n",
       "<table border=\"1\" class=\"dataframe\">\n",
       "  <thead>\n",
       "    <tr style=\"text-align: right;\">\n",
       "      <th></th>\n",
       "      <th>Date</th>\n",
       "      <th>Open</th>\n",
       "      <th>High</th>\n",
       "      <th>Low</th>\n",
       "      <th>Close</th>\n",
       "      <th>Adj Close</th>\n",
       "      <th>Volume</th>\n",
       "      <th>day</th>\n",
       "      <th>month</th>\n",
       "      <th>year</th>\n",
       "    </tr>\n",
       "  </thead>\n",
       "  <tbody>\n",
       "    <tr>\n",
       "      <th>0</th>\n",
       "      <td>2018-02-05</td>\n",
       "      <td>262.000000</td>\n",
       "      <td>267.899994</td>\n",
       "      <td>250.029999</td>\n",
       "      <td>254.259995</td>\n",
       "      <td>254.259995</td>\n",
       "      <td>11896100</td>\n",
       "      <td>5</td>\n",
       "      <td>2</td>\n",
       "      <td>2018</td>\n",
       "    </tr>\n",
       "    <tr>\n",
       "      <th>1</th>\n",
       "      <td>2018-02-06</td>\n",
       "      <td>247.699997</td>\n",
       "      <td>266.700012</td>\n",
       "      <td>245.000000</td>\n",
       "      <td>265.720001</td>\n",
       "      <td>265.720001</td>\n",
       "      <td>12595800</td>\n",
       "      <td>6</td>\n",
       "      <td>2</td>\n",
       "      <td>2018</td>\n",
       "    </tr>\n",
       "    <tr>\n",
       "      <th>2</th>\n",
       "      <td>2018-02-07</td>\n",
       "      <td>266.579987</td>\n",
       "      <td>272.450012</td>\n",
       "      <td>264.329987</td>\n",
       "      <td>264.559998</td>\n",
       "      <td>264.559998</td>\n",
       "      <td>8981500</td>\n",
       "      <td>7</td>\n",
       "      <td>2</td>\n",
       "      <td>2018</td>\n",
       "    </tr>\n",
       "    <tr>\n",
       "      <th>3</th>\n",
       "      <td>2018-02-08</td>\n",
       "      <td>267.079987</td>\n",
       "      <td>267.619995</td>\n",
       "      <td>250.000000</td>\n",
       "      <td>250.100006</td>\n",
       "      <td>250.100006</td>\n",
       "      <td>9306700</td>\n",
       "      <td>8</td>\n",
       "      <td>2</td>\n",
       "      <td>2018</td>\n",
       "    </tr>\n",
       "    <tr>\n",
       "      <th>4</th>\n",
       "      <td>2018-02-09</td>\n",
       "      <td>253.850006</td>\n",
       "      <td>255.800003</td>\n",
       "      <td>236.110001</td>\n",
       "      <td>249.470001</td>\n",
       "      <td>249.470001</td>\n",
       "      <td>16906900</td>\n",
       "      <td>9</td>\n",
       "      <td>2</td>\n",
       "      <td>2018</td>\n",
       "    </tr>\n",
       "  </tbody>\n",
       "</table>\n",
       "</div>\n",
       "      <button class=\"colab-df-convert\" onclick=\"convertToInteractive('df-28911f08-0609-41af-a3e7-3298c4a9b503')\"\n",
       "              title=\"Convert this dataframe to an interactive table.\"\n",
       "              style=\"display:none;\">\n",
       "        \n",
       "  <svg xmlns=\"http://www.w3.org/2000/svg\" height=\"24px\"viewBox=\"0 0 24 24\"\n",
       "       width=\"24px\">\n",
       "    <path d=\"M0 0h24v24H0V0z\" fill=\"none\"/>\n",
       "    <path d=\"M18.56 5.44l.94 2.06.94-2.06 2.06-.94-2.06-.94-.94-2.06-.94 2.06-2.06.94zm-11 1L8.5 8.5l.94-2.06 2.06-.94-2.06-.94L8.5 2.5l-.94 2.06-2.06.94zm10 10l.94 2.06.94-2.06 2.06-.94-2.06-.94-.94-2.06-.94 2.06-2.06.94z\"/><path d=\"M17.41 7.96l-1.37-1.37c-.4-.4-.92-.59-1.43-.59-.52 0-1.04.2-1.43.59L10.3 9.45l-7.72 7.72c-.78.78-.78 2.05 0 2.83L4 21.41c.39.39.9.59 1.41.59.51 0 1.02-.2 1.41-.59l7.78-7.78 2.81-2.81c.8-.78.8-2.07 0-2.86zM5.41 20L4 18.59l7.72-7.72 1.47 1.35L5.41 20z\"/>\n",
       "  </svg>\n",
       "      </button>\n",
       "      \n",
       "  <style>\n",
       "    .colab-df-container {\n",
       "      display:flex;\n",
       "      flex-wrap:wrap;\n",
       "      gap: 12px;\n",
       "    }\n",
       "\n",
       "    .colab-df-convert {\n",
       "      background-color: #E8F0FE;\n",
       "      border: none;\n",
       "      border-radius: 50%;\n",
       "      cursor: pointer;\n",
       "      display: none;\n",
       "      fill: #1967D2;\n",
       "      height: 32px;\n",
       "      padding: 0 0 0 0;\n",
       "      width: 32px;\n",
       "    }\n",
       "\n",
       "    .colab-df-convert:hover {\n",
       "      background-color: #E2EBFA;\n",
       "      box-shadow: 0px 1px 2px rgba(60, 64, 67, 0.3), 0px 1px 3px 1px rgba(60, 64, 67, 0.15);\n",
       "      fill: #174EA6;\n",
       "    }\n",
       "\n",
       "    [theme=dark] .colab-df-convert {\n",
       "      background-color: #3B4455;\n",
       "      fill: #D2E3FC;\n",
       "    }\n",
       "\n",
       "    [theme=dark] .colab-df-convert:hover {\n",
       "      background-color: #434B5C;\n",
       "      box-shadow: 0px 1px 3px 1px rgba(0, 0, 0, 0.15);\n",
       "      filter: drop-shadow(0px 1px 2px rgba(0, 0, 0, 0.3));\n",
       "      fill: #FFFFFF;\n",
       "    }\n",
       "  </style>\n",
       "\n",
       "      <script>\n",
       "        const buttonEl =\n",
       "          document.querySelector('#df-28911f08-0609-41af-a3e7-3298c4a9b503 button.colab-df-convert');\n",
       "        buttonEl.style.display =\n",
       "          google.colab.kernel.accessAllowed ? 'block' : 'none';\n",
       "\n",
       "        async function convertToInteractive(key) {\n",
       "          const element = document.querySelector('#df-28911f08-0609-41af-a3e7-3298c4a9b503');\n",
       "          const dataTable =\n",
       "            await google.colab.kernel.invokeFunction('convertToInteractive',\n",
       "                                                     [key], {});\n",
       "          if (!dataTable) return;\n",
       "\n",
       "          const docLinkHtml = 'Like what you see? Visit the ' +\n",
       "            '<a target=\"_blank\" href=https://colab.research.google.com/notebooks/data_table.ipynb>data table notebook</a>'\n",
       "            + ' to learn more about interactive tables.';\n",
       "          element.innerHTML = '';\n",
       "          dataTable['output_type'] = 'display_data';\n",
       "          await google.colab.output.renderOutput(dataTable, element);\n",
       "          const docLink = document.createElement('div');\n",
       "          docLink.innerHTML = docLinkHtml;\n",
       "          element.appendChild(docLink);\n",
       "        }\n",
       "      </script>\n",
       "    </div>\n",
       "  </div>\n",
       "  "
      ],
      "text/plain": [
       "         Date        Open        High         Low       Close   Adj Close  \\\n",
       "0  2018-02-05  262.000000  267.899994  250.029999  254.259995  254.259995   \n",
       "1  2018-02-06  247.699997  266.700012  245.000000  265.720001  265.720001   \n",
       "2  2018-02-07  266.579987  272.450012  264.329987  264.559998  264.559998   \n",
       "3  2018-02-08  267.079987  267.619995  250.000000  250.100006  250.100006   \n",
       "4  2018-02-09  253.850006  255.800003  236.110001  249.470001  249.470001   \n",
       "\n",
       "     Volume  day  month  year  \n",
       "0  11896100    5      2  2018  \n",
       "1  12595800    6      2  2018  \n",
       "2   8981500    7      2  2018  \n",
       "3   9306700    8      2  2018  \n",
       "4  16906900    9      2  2018  "
      ]
     },
     "execution_count": 3,
     "metadata": {},
     "output_type": "execute_result"
    }
   ],
   "source": [
    "#split the 'Date' column into three new columns based on the day, month, and year\n",
    "splitted = stock['Date'].str.split('-', expand=True)\n",
    "#add the new splitted columns into the dataframe\n",
    "stock['day'] = splitted[2].astype('int')\n",
    "stock['month'] = splitted[1].astype('int')\n",
    "stock['year'] = splitted[0].astype('int')\n",
    "#check whether the new columns are added correctly \n",
    "stock.head()"
   ]
  },
  {
   "cell_type": "code",
   "execution_count": 4,
   "metadata": {
    "colab": {
     "base_uri": "https://localhost:8080/",
     "height": 357
    },
    "id": "wXEP9rCz4Qx2",
    "outputId": "b15b3028-15b9-48b4-9099-eb1995a8c4d4"
   },
   "outputs": [
    {
     "data": {
      "text/html": [
       "\n",
       "  <div id=\"df-0eb4d9b7-2eef-417e-96ae-d1fce204cb1b\">\n",
       "    <div class=\"colab-df-container\">\n",
       "      <div>\n",
       "<style scoped>\n",
       "    .dataframe tbody tr th:only-of-type {\n",
       "        vertical-align: middle;\n",
       "    }\n",
       "\n",
       "    .dataframe tbody tr th {\n",
       "        vertical-align: top;\n",
       "    }\n",
       "\n",
       "    .dataframe thead th {\n",
       "        text-align: right;\n",
       "    }\n",
       "</style>\n",
       "<table border=\"1\" class=\"dataframe\">\n",
       "  <thead>\n",
       "    <tr style=\"text-align: right;\">\n",
       "      <th></th>\n",
       "      <th>Date</th>\n",
       "      <th>Open</th>\n",
       "      <th>High</th>\n",
       "      <th>Low</th>\n",
       "      <th>Close</th>\n",
       "      <th>Adj Close</th>\n",
       "      <th>Volume</th>\n",
       "      <th>day</th>\n",
       "      <th>month</th>\n",
       "      <th>year</th>\n",
       "      <th>is_quarter_end</th>\n",
       "    </tr>\n",
       "  </thead>\n",
       "  <tbody>\n",
       "    <tr>\n",
       "      <th>0</th>\n",
       "      <td>2018-02-05</td>\n",
       "      <td>262.000000</td>\n",
       "      <td>267.899994</td>\n",
       "      <td>250.029999</td>\n",
       "      <td>254.259995</td>\n",
       "      <td>254.259995</td>\n",
       "      <td>11896100</td>\n",
       "      <td>5</td>\n",
       "      <td>2</td>\n",
       "      <td>2018</td>\n",
       "      <td>0</td>\n",
       "    </tr>\n",
       "    <tr>\n",
       "      <th>1</th>\n",
       "      <td>2018-02-06</td>\n",
       "      <td>247.699997</td>\n",
       "      <td>266.700012</td>\n",
       "      <td>245.000000</td>\n",
       "      <td>265.720001</td>\n",
       "      <td>265.720001</td>\n",
       "      <td>12595800</td>\n",
       "      <td>6</td>\n",
       "      <td>2</td>\n",
       "      <td>2018</td>\n",
       "      <td>0</td>\n",
       "    </tr>\n",
       "    <tr>\n",
       "      <th>2</th>\n",
       "      <td>2018-02-07</td>\n",
       "      <td>266.579987</td>\n",
       "      <td>272.450012</td>\n",
       "      <td>264.329987</td>\n",
       "      <td>264.559998</td>\n",
       "      <td>264.559998</td>\n",
       "      <td>8981500</td>\n",
       "      <td>7</td>\n",
       "      <td>2</td>\n",
       "      <td>2018</td>\n",
       "      <td>0</td>\n",
       "    </tr>\n",
       "    <tr>\n",
       "      <th>3</th>\n",
       "      <td>2018-02-08</td>\n",
       "      <td>267.079987</td>\n",
       "      <td>267.619995</td>\n",
       "      <td>250.000000</td>\n",
       "      <td>250.100006</td>\n",
       "      <td>250.100006</td>\n",
       "      <td>9306700</td>\n",
       "      <td>8</td>\n",
       "      <td>2</td>\n",
       "      <td>2018</td>\n",
       "      <td>0</td>\n",
       "    </tr>\n",
       "    <tr>\n",
       "      <th>4</th>\n",
       "      <td>2018-02-09</td>\n",
       "      <td>253.850006</td>\n",
       "      <td>255.800003</td>\n",
       "      <td>236.110001</td>\n",
       "      <td>249.470001</td>\n",
       "      <td>249.470001</td>\n",
       "      <td>16906900</td>\n",
       "      <td>9</td>\n",
       "      <td>2</td>\n",
       "      <td>2018</td>\n",
       "      <td>0</td>\n",
       "    </tr>\n",
       "  </tbody>\n",
       "</table>\n",
       "</div>\n",
       "      <button class=\"colab-df-convert\" onclick=\"convertToInteractive('df-0eb4d9b7-2eef-417e-96ae-d1fce204cb1b')\"\n",
       "              title=\"Convert this dataframe to an interactive table.\"\n",
       "              style=\"display:none;\">\n",
       "        \n",
       "  <svg xmlns=\"http://www.w3.org/2000/svg\" height=\"24px\"viewBox=\"0 0 24 24\"\n",
       "       width=\"24px\">\n",
       "    <path d=\"M0 0h24v24H0V0z\" fill=\"none\"/>\n",
       "    <path d=\"M18.56 5.44l.94 2.06.94-2.06 2.06-.94-2.06-.94-.94-2.06-.94 2.06-2.06.94zm-11 1L8.5 8.5l.94-2.06 2.06-.94-2.06-.94L8.5 2.5l-.94 2.06-2.06.94zm10 10l.94 2.06.94-2.06 2.06-.94-2.06-.94-.94-2.06-.94 2.06-2.06.94z\"/><path d=\"M17.41 7.96l-1.37-1.37c-.4-.4-.92-.59-1.43-.59-.52 0-1.04.2-1.43.59L10.3 9.45l-7.72 7.72c-.78.78-.78 2.05 0 2.83L4 21.41c.39.39.9.59 1.41.59.51 0 1.02-.2 1.41-.59l7.78-7.78 2.81-2.81c.8-.78.8-2.07 0-2.86zM5.41 20L4 18.59l7.72-7.72 1.47 1.35L5.41 20z\"/>\n",
       "  </svg>\n",
       "      </button>\n",
       "      \n",
       "  <style>\n",
       "    .colab-df-container {\n",
       "      display:flex;\n",
       "      flex-wrap:wrap;\n",
       "      gap: 12px;\n",
       "    }\n",
       "\n",
       "    .colab-df-convert {\n",
       "      background-color: #E8F0FE;\n",
       "      border: none;\n",
       "      border-radius: 50%;\n",
       "      cursor: pointer;\n",
       "      display: none;\n",
       "      fill: #1967D2;\n",
       "      height: 32px;\n",
       "      padding: 0 0 0 0;\n",
       "      width: 32px;\n",
       "    }\n",
       "\n",
       "    .colab-df-convert:hover {\n",
       "      background-color: #E2EBFA;\n",
       "      box-shadow: 0px 1px 2px rgba(60, 64, 67, 0.3), 0px 1px 3px 1px rgba(60, 64, 67, 0.15);\n",
       "      fill: #174EA6;\n",
       "    }\n",
       "\n",
       "    [theme=dark] .colab-df-convert {\n",
       "      background-color: #3B4455;\n",
       "      fill: #D2E3FC;\n",
       "    }\n",
       "\n",
       "    [theme=dark] .colab-df-convert:hover {\n",
       "      background-color: #434B5C;\n",
       "      box-shadow: 0px 1px 3px 1px rgba(0, 0, 0, 0.15);\n",
       "      filter: drop-shadow(0px 1px 2px rgba(0, 0, 0, 0.3));\n",
       "      fill: #FFFFFF;\n",
       "    }\n",
       "  </style>\n",
       "\n",
       "      <script>\n",
       "        const buttonEl =\n",
       "          document.querySelector('#df-0eb4d9b7-2eef-417e-96ae-d1fce204cb1b button.colab-df-convert');\n",
       "        buttonEl.style.display =\n",
       "          google.colab.kernel.accessAllowed ? 'block' : 'none';\n",
       "\n",
       "        async function convertToInteractive(key) {\n",
       "          const element = document.querySelector('#df-0eb4d9b7-2eef-417e-96ae-d1fce204cb1b');\n",
       "          const dataTable =\n",
       "            await google.colab.kernel.invokeFunction('convertToInteractive',\n",
       "                                                     [key], {});\n",
       "          if (!dataTable) return;\n",
       "\n",
       "          const docLinkHtml = 'Like what you see? Visit the ' +\n",
       "            '<a target=\"_blank\" href=https://colab.research.google.com/notebooks/data_table.ipynb>data table notebook</a>'\n",
       "            + ' to learn more about interactive tables.';\n",
       "          element.innerHTML = '';\n",
       "          dataTable['output_type'] = 'display_data';\n",
       "          await google.colab.output.renderOutput(dataTable, element);\n",
       "          const docLink = document.createElement('div');\n",
       "          docLink.innerHTML = docLinkHtml;\n",
       "          element.appendChild(docLink);\n",
       "        }\n",
       "      </script>\n",
       "    </div>\n",
       "  </div>\n",
       "  "
      ],
      "text/plain": [
       "         Date        Open        High         Low       Close   Adj Close  \\\n",
       "0  2018-02-05  262.000000  267.899994  250.029999  254.259995  254.259995   \n",
       "1  2018-02-06  247.699997  266.700012  245.000000  265.720001  265.720001   \n",
       "2  2018-02-07  266.579987  272.450012  264.329987  264.559998  264.559998   \n",
       "3  2018-02-08  267.079987  267.619995  250.000000  250.100006  250.100006   \n",
       "4  2018-02-09  253.850006  255.800003  236.110001  249.470001  249.470001   \n",
       "\n",
       "     Volume  day  month  year  is_quarter_end  \n",
       "0  11896100    5      2  2018               0  \n",
       "1  12595800    6      2  2018               0  \n",
       "2   8981500    7      2  2018               0  \n",
       "3   9306700    8      2  2018               0  \n",
       "4  16906900    9      2  2018               0  "
      ]
     },
     "execution_count": 4,
     "metadata": {},
     "output_type": "execute_result"
    }
   ],
   "source": [
    "#add another variable named 'is_quarter_end' to shows price changes \n",
    "#on quarter end and non quarter end months\n",
    "stock['is_quarter_end'] = np.where(stock['month']%3==0,1,0)\n",
    "stock.head()"
   ]
  },
  {
   "cell_type": "code",
   "execution_count": 5,
   "metadata": {
    "colab": {
     "base_uri": "https://localhost:8080/",
     "height": 354
    },
    "id": "BpA3Py2v5Do8",
    "outputId": "f2bb3762-9965-4450-9984-cc1d68cc76c2"
   },
   "outputs": [
    {
     "data": {
      "image/png": "[encoded data removed]",
      "text/plain": [
       "<Figure size 1440x720 with 5 Axes>"
      ]
     },
     "metadata": {
      "needs_background": "light"
     },
     "output_type": "display_data"
    }
   ],
   "source": [
    "#plotting bar chart on the changes of stock price data over years\n",
    "data_grouped = stock.groupby('year').mean()\n",
    "plt.subplots(figsize=(20,10))\n",
    " \n",
    "for i, col in enumerate(['Open', 'High', 'Low', 'Close', 'Adj Close']):\n",
    "  plt.subplot(2,3,i+1)\n",
    "  data_grouped[col].plot.bar()\n",
    "plt.show()"
   ]
  },
  {
   "cell_type": "markdown",
   "metadata": {
    "id": "aMz_OUCa_OVz"
   },
   "source": [
    "- Based on the bar chart above, it shows that the stock prices reached a peak in the year 2021.\n",
    "\n",
    "- The stock price does not have much changes in 2018 and 2019.\n",
    "\n",
    "- There is an increase in the stock price from 2019 to 2021. However, the stock price started to fall slightly in 2022 but the price is still better than 2018, 2019, and 2020. "
   ]
  },
  {
   "cell_type": "code",
   "execution_count": 6,
   "metadata": {
    "colab": {
     "base_uri": "https://localhost:8080/",
     "height": 207
    },
    "id": "AawotogC_Nsr",
    "outputId": "8254c783-e06c-4670-9eb5-0abee802407a"
   },
   "outputs": [
    {
     "data": {
      "text/html": [
       "\n",
       "  <div id=\"df-640298eb-106d-4ee3-960e-65e321f35f3c\">\n",
       "    <div class=\"colab-df-container\">\n",
       "      <div>\n",
       "<style scoped>\n",
       "    .dataframe tbody tr th:only-of-type {\n",
       "        vertical-align: middle;\n",
       "    }\n",
       "\n",
       "    .dataframe tbody tr th {\n",
       "        vertical-align: top;\n",
       "    }\n",
       "\n",
       "    .dataframe thead th {\n",
       "        text-align: right;\n",
       "    }\n",
       "</style>\n",
       "<table border=\"1\" class=\"dataframe\">\n",
       "  <thead>\n",
       "    <tr style=\"text-align: right;\">\n",
       "      <th></th>\n",
       "      <th>Open</th>\n",
       "      <th>High</th>\n",
       "      <th>Low</th>\n",
       "      <th>Close</th>\n",
       "      <th>Adj Close</th>\n",
       "      <th>Volume</th>\n",
       "      <th>day</th>\n",
       "      <th>month</th>\n",
       "      <th>year</th>\n",
       "    </tr>\n",
       "    <tr>\n",
       "      <th>is_quarter_end</th>\n",
       "      <th></th>\n",
       "      <th></th>\n",
       "      <th></th>\n",
       "      <th></th>\n",
       "      <th></th>\n",
       "      <th></th>\n",
       "      <th></th>\n",
       "      <th></th>\n",
       "      <th></th>\n",
       "    </tr>\n",
       "  </thead>\n",
       "  <tbody>\n",
       "    <tr>\n",
       "      <th>0</th>\n",
       "      <td>418.681368</td>\n",
       "      <td>424.889821</td>\n",
       "      <td>412.112068</td>\n",
       "      <td>418.699791</td>\n",
       "      <td>418.699791</td>\n",
       "      <td>7.951664e+06</td>\n",
       "      <td>15.715774</td>\n",
       "      <td>6.087798</td>\n",
       "      <td>2019.622024</td>\n",
       "    </tr>\n",
       "    <tr>\n",
       "      <th>1</th>\n",
       "      <td>419.814037</td>\n",
       "      <td>426.179910</td>\n",
       "      <td>412.896440</td>\n",
       "      <td>419.600831</td>\n",
       "      <td>419.600831</td>\n",
       "      <td>6.810988e+06</td>\n",
       "      <td>15.721068</td>\n",
       "      <td>7.442136</td>\n",
       "      <td>2019.543027</td>\n",
       "    </tr>\n",
       "  </tbody>\n",
       "</table>\n",
       "</div>\n",
       "      <button class=\"colab-df-convert\" onclick=\"convertToInteractive('df-640298eb-106d-4ee3-960e-65e321f35f3c')\"\n",
       "              title=\"Convert this dataframe to an interactive table.\"\n",
       "              style=\"display:none;\">\n",
       "        \n",
       "  <svg xmlns=\"http://www.w3.org/2000/svg\" height=\"24px\"viewBox=\"0 0 24 24\"\n",
       "       width=\"24px\">\n",
       "    <path d=\"M0 0h24v24H0V0z\" fill=\"none\"/>\n",
       "    <path d=\"M18.56 5.44l.94 2.06.94-2.06 2.06-.94-2.06-.94-.94-2.06-.94 2.06-2.06.94zm-11 1L8.5 8.5l.94-2.06 2.06-.94-2.06-.94L8.5 2.5l-.94 2.06-2.06.94zm10 10l.94 2.06.94-2.06 2.06-.94-2.06-.94-.94-2.06-.94 2.06-2.06.94z\"/><path d=\"M17.41 7.96l-1.37-1.37c-.4-.4-.92-.59-1.43-.59-.52 0-1.04.2-1.43.59L10.3 9.45l-7.72 7.72c-.78.78-.78 2.05 0 2.83L4 21.41c.39.39.9.59 1.41.59.51 0 1.02-.2 1.41-.59l7.78-7.78 2.81-2.81c.8-.78.8-2.07 0-2.86zM5.41 20L4 18.59l7.72-7.72 1.47 1.35L5.41 20z\"/>\n",
       "  </svg>\n",
       "      </button>\n",
       "      \n",
       "  <style>\n",
       "    .colab-df-container {\n",
       "      display:flex;\n",
       "      flex-wrap:wrap;\n",
       "      gap: 12px;\n",
       "    }\n",
       "\n",
       "    .colab-df-convert {\n",
       "      background-color: #E8F0FE;\n",
       "      border: none;\n",
       "      border-radius: 50%;\n",
       "      cursor: pointer;\n",
       "      display: none;\n",
       "      fill: #1967D2;\n",
       "      height: 32px;\n",
       "      padding: 0 0 0 0;\n",
       "      width: 32px;\n",
       "    }\n",
       "\n",
       "    .colab-df-convert:hover {\n",
       "      background-color: #E2EBFA;\n",
       "      box-shadow: 0px 1px 2px rgba(60, 64, 67, 0.3), 0px 1px 3px 1px rgba(60, 64, 67, 0.15);\n",
       "      fill: #174EA6;\n",
       "    }\n",
       "\n",
       "    [theme=dark] .colab-df-convert {\n",
       "      background-color: #3B4455;\n",
       "      fill: #D2E3FC;\n",
       "    }\n",
       "\n",
       "    [theme=dark] .colab-df-convert:hover {\n",
       "      background-color: #434B5C;\n",
       "      box-shadow: 0px 1px 3px 1px rgba(0, 0, 0, 0.15);\n",
       "      filter: drop-shadow(0px 1px 2px rgba(0, 0, 0, 0.3));\n",
       "      fill: #FFFFFF;\n",
       "    }\n",
       "  </style>\n",
       "\n",
       "      <script>\n",
       "        const buttonEl =\n",
       "          document.querySelector('#df-640298eb-106d-4ee3-960e-65e321f35f3c button.colab-df-convert');\n",
       "        buttonEl.style.display =\n",
       "          google.colab.kernel.accessAllowed ? 'block' : 'none';\n",
       "\n",
       "        async function convertToInteractive(key) {\n",
       "          const element = document.querySelector('#df-640298eb-106d-4ee3-960e-65e321f35f3c');\n",
       "          const dataTable =\n",
       "            await google.colab.kernel.invokeFunction('convertToInteractive',\n",
       "                                                     [key], {});\n",
       "          if (!dataTable) return;\n",
       "\n",
       "          const docLinkHtml = 'Like what you see? Visit the ' +\n",
       "            '<a target=\"_blank\" href=https://colab.research.google.com/notebooks/data_table.ipynb>data table notebook</a>'\n",
       "            + ' to learn more about interactive tables.';\n",
       "          element.innerHTML = '';\n",
       "          dataTable['output_type'] = 'display_data';\n",
       "          await google.colab.output.renderOutput(dataTable, element);\n",
       "          const docLink = document.createElement('div');\n",
       "          docLink.innerHTML = docLinkHtml;\n",
       "          element.appendChild(docLink);\n",
       "        }\n",
       "      </script>\n",
       "    </div>\n",
       "  </div>\n",
       "  "
      ],
      "text/plain": [
       "                      Open        High         Low       Close   Adj Close  \\\n",
       "is_quarter_end                                                               \n",
       "0               418.681368  424.889821  412.112068  418.699791  418.699791   \n",
       "1               419.814037  426.179910  412.896440  419.600831  419.600831   \n",
       "\n",
       "                      Volume        day     month         year  \n",
       "is_quarter_end                                                  \n",
       "0               7.951664e+06  15.715774  6.087798  2019.622024  \n",
       "1               6.810988e+06  15.721068  7.442136  2019.543027  "
      ]
     },
     "execution_count": 6,
     "metadata": {},
     "output_type": "execute_result"
    }
   ],
   "source": [
    "#group the stock data based on 'is_quarter_end' \n",
    "#to easily compare the stock price and volume of stock traded \n",
    "#by quater end month and non-quarter end month\n",
    "stock.groupby('is_quarter_end').mean()"
   ]
  },
  {
   "cell_type": "markdown",
   "metadata": {
    "id": "bXndzfGxAKTZ"
   },
   "source": [
    "- The Netflix stock price is slight higher in the months that are quarter end as compared to the months that are non-quarter.\n",
    "\n",
    "- The number of stocks traded in the quarter end months are lower than the non-quarter months."
   ]
  },
  {
   "cell_type": "markdown",
   "metadata": {
    "id": "iCxR-8Fn2CGG"
   },
   "source": [
    "**- All the features are important based on the EDA done.**"
   ]
  },
  {
   "cell_type": "markdown",
   "metadata": {
    "id": "Nn8KVwkrua4H"
   },
   "source": [
    "## **Predictive Modelling**"
   ]
  },
  {
   "cell_type": "markdown",
   "metadata": {
    "id": "Gh4hZ7rRYPAF"
   },
   "source": [
    "- This study employs four machine learning algorithms which includes Linear Regression, Support Vector Machines, Decision Tree, and K-Nearest Neighbors to predict the Netflix stock price (adjusted close price)."
   ]
  },
  {
   "cell_type": "code",
   "execution_count": 7,
   "metadata": {
    "id": "QG74yQUtDwL4"
   },
   "outputs": [],
   "source": [
    "#import required libraries\n",
    "from sklearn.model_selection import train_test_split\n",
    "from sklearn.linear_model import LinearRegression\n",
    "from sklearn import svm\n",
    "from sklearn import metrics\n",
    "from sklearn.preprocessing import StandardScaler"
   ]
  },
  {
   "cell_type": "markdown",
   "metadata": {
    "id": "4mbhpO10CaPv"
   },
   "source": [
    "#### **Data Splitting and Standardization**"
   ]
  },
  {
   "cell_type": "code",
   "execution_count": 8,
   "metadata": {
    "id": "_4vgNsRs1K1g"
   },
   "outputs": [],
   "source": [
    "#define independent variables (X) and dependent variables (Y)\n",
    "X = stock[[\"Open\", \"High\", \"Low\", \"Close\", \"Volume\", \"is_quarter_end\"]]\n",
    "y = stock[\"Adj Close\"]\n",
    "#split data into test and training set by setting 20% of data as test set\n",
    "X_train, X_test, y_train, y_test = train_test_split(X,y, test_size=0.2, random_state=0)"
   ]
  },
  {
   "cell_type": "code",
   "execution_count": 9,
   "metadata": {
    "id": "X75B647y2d6-"
   },
   "outputs": [],
   "source": [
    "#data standardization\n",
    "scale = StandardScaler()\n",
    "X_train = scale.fit_transform(X_train)\n",
    "X_test = scale.transform(X_test)"
   ]
  },
  {
   "cell_type": "markdown",
   "metadata": {
    "id": "tKZkpgx0IVnP"
   },
   "source": [
    "#### **Linear Regression**"
   ]
  },
  {
   "cell_type": "code",
   "execution_count": 10,
   "metadata": {
    "colab": {
     "base_uri": "https://localhost:8080/"
    },
    "id": "Z7Gp84zEIZAZ",
    "outputId": "2a24b0a5-a448-4a9d-824c-eddf146f78b7"
   },
   "outputs": [
    {
     "name": "stdout",
     "output_type": "stream",
     "text": [
      "[553.72998  379.059998 361.399994 281.859985 261.429993 434.480011\n",
      " 265.720001 518.02002  315.929993 348.869995 519.969971 321.089996\n",
      " 489.820007 298.929993 510.720001 503.380005 288.859985 549.219971\n",
      " 337.450012 269.579987 338.920013 294.160004 465.910004 368.970001\n",
      " 290.170013 502.899994 498.619995 296.929993 351.140015 363.440002\n",
      " 281.209991 543.710022 316.480011 540.72998  303.670013 519.780029\n",
      " 339.850006 381.       515.780029 627.039978 481.790009 298.440002\n",
      " 305.76001  265.320007 515.859985 297.570007 294.399994 385.029999\n",
      " 359.609985 419.890015 365.98999  602.130005 481.329987 512.73999\n",
      " 364.579987 418.649994 376.160004 360.269989 368.769989 361.040009\n",
      " 295.76001  493.329987 491.869995 405.600006 325.209991 508.049988\n",
      " 504.579987 354.98999  320.799988 344.720001 655.98999  351.290009\n",
      " 262.130005 267.529999 426.700012 547.919983 351.850006 304.290009\n",
      " 592.640015 368.48999  501.769989 502.809998 519.200012 653.159973\n",
      " 359.910004 335.660004 390.519989 302.859985 356.970001 519.299988\n",
      " 527.390015 309.380005 362.869995 490.76001  293.75     513.390015\n",
      " 362.440002 535.090027 333.130005 447.23999  541.640015 553.409973\n",
      " 308.929993 548.159973 443.399994 387.779999 436.529999 358.\n",
      " 350.619995 485.640015 330.299988 332.940002 503.859985 361.410004\n",
      " 520.650024 524.590027 485.809998 488.940002 540.669983 384.480011\n",
      " 419.48999  521.659973 488.929993 540.840027 339.070007 345.730011\n",
      " 361.01001  531.049988 538.599976 625.580017 313.359985 263.309998\n",
      " 569.190002 524.880005 345.089996 510.799988 364.709991 575.429993\n",
      " 501.089996 490.579987 310.619995 274.880005 280.269989 332.029999\n",
      " 486.660004 391.429993 453.720001 349.600006 612.690002 597.98999\n",
      " 495.079987 354.299988 583.849976 307.019989 320.350006 307.299988\n",
      " 317.5      516.390015 557.280029 631.849976 353.190002 603.349976\n",
      " 457.130005 493.480011 530.309998 553.289978 421.970001 664.780029\n",
      " 496.950012 511.769989 691.690002 345.609985 371.070007 497.890015\n",
      " 418.070007 352.600006 355.809998 645.719971 367.679993 326.\n",
      " 557.590027 602.440002 340.660004 364.369995 271.269989 370.980011\n",
      " 520.700012 323.309998 493.369995 362.75     361.459991 339.26001\n",
      " 524.830017 378.809998 367.320007 424.98999  586.340027 504.790009\n",
      " 315.339996 257.950012 305.160004 410.170013]\n"
     ]
    }
   ],
   "source": [
    "#develop stock price prediction model using Linear Regression\n",
    "lr_model=LinearRegression()\n",
    "#fit the training set to train the model\n",
    "lr_model.fit(X_train,y_train)\n",
    "#predict using test set\n",
    "lr_predict = lr_model.predict(X_test)\n",
    "#show daily prediction of adjusted close price\n",
    "print(lr_predict)"
   ]
  },
  {
   "cell_type": "code",
   "execution_count": 11,
   "metadata": {
    "colab": {
     "base_uri": "https://localhost:8080/"
    },
    "id": "781CyNWWIydz",
    "outputId": "b4930d95-e20d-4670-aff7-1aea04f4b6bc"
   },
   "outputs": [
    {
     "name": "stdout",
     "output_type": "stream",
     "text": [
      "Mean Absolute Error: 0.0\n",
      "Mean Squared Error: 0.0\n",
      "Root Mean Squared Error: 0.0\n",
      "(R^2) Score: 1.0\n",
      "Train Score : 100.00% and Test Score : 100.00% using Linear Regression.\n",
      "Accuracy: 100.0 %.\n"
     ]
    }
   ],
   "source": [
    "#get the summary of model performance statistic\n",
    "print(\"Mean Absolute Error:\", round(metrics.mean_absolute_error(y_test, lr_predict), 4))\n",
    "print(\"Mean Squared Error:\", round(metrics.mean_squared_error(y_test, lr_predict), 4))\n",
    "print(\"Root Mean Squared Error:\", round(np.sqrt(metrics.mean_squared_error(y_test, lr_predict)), 4))\n",
    "print(\"(R^2) Score:\", round(metrics.r2_score(y_test, lr_predict), 4))\n",
    "print(f'Train Score : {lr_model.score(X_train, y_train) * 100:.2f}% and Test Score : {lr_model.score(X_test, y_test) * 100:.2f}% using Linear Regression.')\n",
    "errors = abs(lr_predict - y_test)\n",
    "mape = 100 * (errors / y_test)\n",
    "accuracy = 100 - np.mean(mape)\n",
    "print('Accuracy:', round(accuracy, 2), '%.') "
   ]
  },
  {
   "cell_type": "markdown",
   "metadata": {
    "id": "DvhLVF9y3ysL"
   },
   "source": [
    "#### **Support Vector Machine Regression**"
   ]
  },
  {
   "cell_type": "code",
   "execution_count": 12,
   "metadata": {
    "colab": {
     "base_uri": "https://localhost:8080/"
    },
    "id": "l4JGiGd02o7T",
    "outputId": "dc87233a-48d8-4bda-d88f-1c1b95a7491a"
   },
   "outputs": [
    {
     "name": "stdout",
     "output_type": "stream",
     "text": [
      "[554.34432654 378.89848495 362.8421459  281.47659675 260.69682288\n",
      " 434.9755812  259.91193401 516.93753335 315.30186188 348.1794721\n",
      " 520.09162639 321.2972734  490.90269382 297.90877164 510.3860438\n",
      " 501.80838926 289.41529147 548.16696074 335.94685917 268.77476138\n",
      " 337.15934867 292.49710037 463.0260031  366.74306361 290.61838748\n",
      " 502.2021692  497.02893215 296.96382762 353.67576819 364.88870027\n",
      " 281.17264205 538.07049936 316.91561377 536.71768174 304.9740386\n",
      " 519.42757897 340.44692068 377.50063282 511.03576313 629.94158693\n",
      " 482.27578043 297.90151857 303.64182267 267.593464   516.06500977\n",
      " 292.10930522 295.2464924  383.20417885 357.63407417 414.0296779\n",
      " 367.19971652 606.73822337 480.61080054 512.37110937 365.82818033\n",
      " 416.47979656 376.58269927 356.35411704 374.90720967 360.13259798\n",
      " 295.28947929 500.34330914 489.91515399 411.49938516 324.95123511\n",
      " 505.28932929 501.99822592 351.3582991  320.52253702 339.83279821\n",
      " 655.35298637 351.31672766 265.76807396 267.84070432 426.97846\n",
      " 548.8306517  351.47680297 302.61097823 588.88241516 366.8191563\n",
      " 501.31299208 504.74563852 524.79801825 645.7470699  360.98225228\n",
      " 337.57483814 392.94530758 303.13093804 357.75365995 519.96863336\n",
      " 523.4982483  308.66147273 363.33974512 487.41691448 294.60537577\n",
      " 512.02139006 363.41941128 535.2751625  333.31488289 443.78810076\n",
      " 539.19476757 552.61376245 310.22865225 547.07009868 450.20715502\n",
      " 385.58058861 435.64465241 354.89675652 348.56714583 476.55257519\n",
      " 329.9491183  332.70952436 502.66212724 362.32239933 515.23142639\n",
      " 526.7713547  488.51278887 488.03435679 538.28642879 389.3337697\n",
      " 416.65509048 521.34122705 487.85418786 538.60529618 339.40169971\n",
      " 347.3958557  365.36914452 529.2977384  539.64977796 622.61351976\n",
      " 313.42740767 264.11675415 567.13483753 516.20881646 344.80552751\n",
      " 513.2256013  363.55089555 578.04640733 499.45240702 489.46620275\n",
      " 310.45708729 274.21213365 276.71890144 331.78050067 486.72931664\n",
      " 394.10715303 451.71391191 342.28203562 610.548865   596.70931906\n",
      " 490.74317863 353.32881375 586.8363399  309.64321822 315.66970326\n",
      " 308.67809244 316.81428772 512.34364097 557.48659327 635.3227705\n",
      " 351.90521433 606.80067893 448.25268869 492.33324717 533.21378278\n",
      " 552.77528762 422.68542888 660.80659166 498.43996027 510.87421227\n",
      " 692.08780081 346.06334192 369.4814747  499.66425997 421.15243499\n",
      " 355.08938706 355.89026435 650.93717816 369.57531133 328.12732595\n",
      " 558.95830131 605.47101832 338.0777921  364.92329842 270.6271661\n",
      " 370.10819233 527.77820719 325.13869022 491.66222602 360.59320055\n",
      " 361.60813386 337.59647139 523.50981156 378.73828905 368.09151934\n",
      " 423.27381181 579.28690862 508.34050675 311.56856987 255.79982723\n",
      " 304.64809107 407.32122271]\n"
     ]
    }
   ],
   "source": [
    "#develop stock price prediction model using SVM with linear kernel\n",
    "regr = svm.SVR(kernel='linear')\n",
    "regr.fit(X_train, y_train)\n",
    "svm_predict = regr.predict(X_test)\n",
    "print(svm_predict)"
   ]
  },
  {
   "cell_type": "code",
   "execution_count": 13,
   "metadata": {
    "colab": {
     "base_uri": "https://localhost:8080/"
    },
    "id": "l6rMnSKn3iVV",
    "outputId": "5cc05c26-496e-4afb-a3d2-470d3a2348b5"
   },
   "outputs": [
    {
     "name": "stdout",
     "output_type": "stream",
     "text": [
      "Mean Absolute Error: 2.0347\n",
      "Mean Squared Error: 7.7504\n",
      "Root Mean Squared Error: 2.7839\n",
      "(R^2) Score: 0.9993\n",
      "Train Score : 99.94% and Test Score : 99.93% using Support Vector Machine.\n",
      "Accuracy: 99.52 %.\n"
     ]
    }
   ],
   "source": [
    "print(\"Mean Absolute Error:\", round(metrics.mean_absolute_error(y_test, svm_predict), 4))\n",
    "print(\"Mean Squared Error:\", round(metrics.mean_squared_error(y_test, svm_predict), 4))\n",
    "print(\"Root Mean Squared Error:\", round(np.sqrt(metrics.mean_squared_error(y_test, svm_predict)), 4))\n",
    "print(\"(R^2) Score:\", round(metrics.r2_score(y_test, svm_predict), 4))\n",
    "print(f'Train Score : {regr.score(X_train, y_train) * 100:.2f}% and Test Score : {regr.score(X_test, y_test) * 100:.2f}% using Support Vector Machine.')\n",
    "errors = abs(svm_predict - y_test)\n",
    "mape = 100 * (errors / y_test)\n",
    "accuracy = 100 - np.mean(mape)\n",
    "print('Accuracy:', round(accuracy, 2), '%.') "
   ]
  },
  {
   "cell_type": "markdown",
   "metadata": {
    "id": "P02e8AOX32cU"
   },
   "source": [
    "#### **Decision tree regression**"
   ]
  },
  {
   "cell_type": "code",
   "execution_count": 14,
   "metadata": {
    "id": "058N-hnb3K0s"
   },
   "outputs": [],
   "source": [
    "from sklearn import tree"
   ]
  },
  {
   "cell_type": "code",
   "execution_count": 15,
   "metadata": {
    "colab": {
     "base_uri": "https://localhost:8080/"
    },
    "id": "JjxFq66Y3dSr",
    "outputId": "bebf3d66-12dc-4a9f-e57e-95a453f3226e"
   },
   "outputs": [
    {
     "name": "stdout",
     "output_type": "stream",
     "text": [
      "[553.330017 379.23999  361.209991 282.649994 260.579987 431.820007\n",
      " 265.920013 517.570007 315.899994 348.519989 520.25     321.100006\n",
      " 490.100006 298.839996 510.399994 503.839996 288.850006 549.570007\n",
      " 337.589996 269.700012 339.559998 294.179993 466.26001  369.01001\n",
      " 290.059998 502.779999 497.980011 296.779999 350.920013 363.600006\n",
      " 281.040009 541.940002 317.380005 540.679993 304.320007 520.25\n",
      " 339.5      380.709991 515.409973 628.080017 482.350006 298.600006\n",
      " 306.160004 264.75     515.919983 297.809998 294.339996 384.359985\n",
      " 359.700012 418.970001 365.48999  606.049988 480.630005 512.179993\n",
      " 364.559998 418.970001 375.5      360.350006 369.209991 361.049988\n",
      " 295.029999 492.410004 491.359985 403.829987 325.220001 507.790009\n",
      " 504.209991 355.059998 321.549988 344.5      651.450012 351.269989\n",
      " 262.799988 267.660004 426.75     548.219971 352.01001  303.470001\n",
      " 593.73999  368.329987 501.670013 502.779999 518.909973 646.909973\n",
      " 359.970001 335.660004 390.399994 302.600006 356.869995 518.909973\n",
      " 527.070007 310.100006 363.089996 490.649994 293.970001 513.969971\n",
      " 362.660004 534.450012 333.100006 449.869995 541.450012 553.330017\n",
      " 310.100006 547.950012 440.519989 387.149994 436.25     358.100006\n",
      " 349.920013 485.799988 331.619995 332.829987 503.220001 361.209991\n",
      " 520.799988 524.030029 486.279999 488.809998 540.679993 386.190002\n",
      " 419.730011 521.869995 488.809998 540.679993 339.5      345.26001\n",
      " 361.049988 530.869995 538.849976 616.469971 313.299988 263.079987\n",
      " 567.52002  525.5      345.869995 510.820007 364.970001 577.76001\n",
      " 500.029999 490.100006 310.839996 272.790009 280.480011 330.75\n",
      " 486.769989 391.980011 454.190002 349.600006 613.119995 592.390015\n",
      " 494.73999  354.269989 579.840027 306.700012 320.269989 307.630005\n",
      " 317.380005 516.48999  556.52002  632.659973 353.160004 606.049988\n",
      " 452.579987 493.600006 530.719971 553.409973 421.380005 663.840027\n",
      " 497.       512.400024 688.289978 345.869995 370.959991 498.309998\n",
      " 419.730011 352.209991 356.559998 654.059998 367.450012 325.899994\n",
      " 556.780029 604.559998 341.179993 364.079987 271.5      370.959991\n",
      " 520.809998 323.570007 492.410004 362.660004 361.209991 339.559998\n",
      " 524.440002 378.670013 367.450012 424.679993 567.52002  504.540009\n",
      " 315.       258.269989 304.320007 411.089996]\n"
     ]
    }
   ],
   "source": [
    "#develop stock price prediction model using decision tree\n",
    "clf = tree.DecisionTreeRegressor()\n",
    "clf = clf.fit(X_train, y_train)\n",
    "dt = clf.predict(X_test)\n",
    "print(dt)"
   ]
  },
  {
   "cell_type": "code",
   "execution_count": 16,
   "metadata": {
    "colab": {
     "base_uri": "https://localhost:8080/"
    },
    "id": "kElXcDYR4HnS",
    "outputId": "6385e69a-11e0-4def-98d3-f469cb8bf7bd"
   },
   "outputs": [
    {
     "name": "stdout",
     "output_type": "stream",
     "text": [
      "Mean Absolute Error: 0.777\n",
      "Mean Squared Error: 3.7477\n",
      "Root Mean Squared Error: 1.9359\n",
      "(R^2) Score: 0.9997\n",
      "Train Score : 100.00% and Test Score : 99.97% using Decision Tree.\n",
      "Accuracy: 99.84 %.\n"
     ]
    }
   ],
   "source": [
    "print(\"Mean Absolute Error:\", round(metrics.mean_absolute_error(y_test, dt), 4))\n",
    "print(\"Mean Squared Error:\", round(metrics.mean_squared_error(y_test, dt), 4))\n",
    "print(\"Root Mean Squared Error:\", round(np.sqrt(metrics.mean_squared_error(y_test, dt)), 4))\n",
    "print(\"(R^2) Score:\", round(metrics.r2_score(y_test, dt), 4))\n",
    "print(f'Train Score : {clf.score(X_train, y_train) * 100:.2f}% and Test Score : {clf.score(X_test, y_test) * 100:.2f}% using Decision Tree.')\n",
    "errors = abs(dt - y_test)\n",
    "mape = 100 * (errors / y_test)\n",
    "accuracy = 100 - np.mean(mape)\n",
    "print('Accuracy:', round(accuracy, 2), '%.') "
   ]
  },
  {
   "cell_type": "markdown",
   "metadata": {
    "id": "ByACPUQ3HANM"
   },
   "source": [
    "#### **K-Nearest Neighbors (KNN)**"
   ]
  },
  {
   "cell_type": "code",
   "execution_count": 17,
   "metadata": {
    "id": "Vj-I3r_bG6w-"
   },
   "outputs": [],
   "source": [
    "from sklearn.neighbors import KNeighborsRegressor"
   ]
  },
  {
   "cell_type": "code",
   "execution_count": 18,
   "metadata": {
    "colab": {
     "base_uri": "https://localhost:8080/"
    },
    "id": "HI8h1njSHPxV",
    "outputId": "2ff6cc72-74d8-4b08-b950-d3e479f5f7a5"
   },
   "outputs": [
    {
     "name": "stdout",
     "output_type": "stream",
     "text": [
      "[554.8640016 376.8040038 363.4539978 281.4279968 266.6579988 430.627997\n",
      " 264.2480012 516.723993  320.1959962 349.0999996 516.1920044 318.6260008\n",
      " 486.452002  299.1400026 515.0140014 498.0119934 295.5820008 547.773999\n",
      " 334.1679932 270.4099978 334.6600034 292.5279968 461.2080018 366.2460022\n",
      " 298.9559998 502.0279906 495.3360048 293.7100038 350.6440064 363.3839964\n",
      " 287.1200012 529.8739868 311.0179992 528.871997  312.6179992 520.995996\n",
      " 343.2739988 374.626001  509.9539978 629.8899902 483.0620056 298.9559998\n",
      " 312.6179992 269.2599974 511.7179808 296.1919984 289.3380064 380.6640014\n",
      " 357.5399962 412.7739992 370.05      607.6579958 483.6900024 509.9539978\n",
      " 355.6599974 413.1179994 377.9859926 354.6219968 373.0519958 360.546002\n",
      " 289.0319946 501.15      487.0300048 413.1179994 344.0720032 503.8880004\n",
      " 501.302002  351.0080016 316.552002  336.1119934 653.6579956 347.1200012\n",
      " 269.4920044 270.0059936 426.0359984 551.75      350.3999938 300.9440002\n",
      " 589.1100098 363.567993  510.352002  504.891992  530.254004  635.7640016\n",
      " 364.354004  337.5139954 382.3520018 302.9640014 356.3080016 521.0259888\n",
      " 524.7299986 310.75      364.0540038 489.6139954 293.8559998 510.6139952\n",
      " 357.648004  531.6460084 334.7839966 449.3320008 535.9880004 551.9120118\n",
      " 312.8899964 544.9459962 461.976001  380.6640014 434.2940002 354.9419982\n",
      " 350.8       484.1299988 331.1359986 332.295996  503.371991  365.5\n",
      " 512.3219848 527.3100096 492.4959962 485.1019958 537.3359986 401.5000062\n",
      " 425.9219972 521.9780028 487.1200072 537.0880004 339.5759948 349.1659972\n",
      " 369.8019958 530.7299804 541.9160034 616.0659912 313.2859924 267.8439942\n",
      " 557.9420046 503.5099976 345.3219908 511.3879882 364.4600036 585.471997\n",
      " 497.695996  487.7279968 318.5460024 270.1100036 270.5180054 331.9599916\n",
      " 485.1019958 383.5899962 457.3960024 336.0820008 608.893982  595.2379884\n",
      " 488.4919982 352.8779968 587.645996  314.0119994 312.8580016 311.4280028\n",
      " 313.2380004 512.2819886 557.9420046 631.7579834 349.8059934 613.5859984\n",
      " 435.1720032 493.2179992 535.352002  550.1880006 422.5320008 660.7140012\n",
      " 497.680005  512.6039794 683.5359986 347.4359922 367.8100036 501.3759948\n",
      " 425.9339968 357.817999  358.9739988 663.2040036 369.8460022 329.6479982\n",
      " 557.9420046 610.6339966 336.0140014 364.8420042 270.0059936 372.526001\n",
      " 524.5059998 331.624005  487.1099976 356.578003  360.8659974 342.0900024\n",
      " 524.423999  376.6700014 366.179999  418.7339966 524.7299986 507.7359924\n",
      " 307.2759952 261.8219972 303.630005  411.3059998]\n"
     ]
    }
   ],
   "source": [
    "#develop stock price prediction model using KNN\n",
    "knn_regressor = KNeighborsRegressor(n_neighbors = 5)\n",
    "knn_model = knn_regressor.fit(X_train,y_train)\n",
    "knn_pred = knn_model.predict(X_test)\n",
    "print(knn_pred)"
   ]
  },
  {
   "cell_type": "code",
   "execution_count": 19,
   "metadata": {
    "colab": {
     "base_uri": "https://localhost:8080/"
    },
    "id": "hIKsdwaaHkyj",
    "outputId": "7918e1bc-86c2-4146-97bb-522c2ce6f5da"
   },
   "outputs": [
    {
     "name": "stdout",
     "output_type": "stream",
     "text": [
      "Mean Absolute Error: 4.6151\n",
      "Mean Squared Error: 53.3243\n",
      "Root Mean Squared Error: 7.3023\n",
      "(R^2) Score: 0.9953\n",
      "Train Score : 99.71% and Test Score : 99.53% using KNN.\n",
      "Accuracy: 98.89 %.\n"
     ]
    }
   ],
   "source": [
    "print(\"Mean Absolute Error:\", round(metrics.mean_absolute_error(y_test, knn_pred), 4))\n",
    "print(\"Mean Squared Error:\", round(metrics.mean_squared_error(y_test, knn_pred), 4))\n",
    "print(\"Root Mean Squared Error:\", round(np.sqrt(metrics.mean_squared_error(y_test, knn_pred)), 4))\n",
    "print(\"(R^2) Score:\", round(metrics.r2_score(y_test, knn_pred), 4))\n",
    "print(f'Train Score : {knn_model.score(X_train, y_train) * 100:.2f}% and Test Score : {knn_model.score(X_test, y_test) * 100:.2f}% using KNN.')\n",
    "errors = abs(knn_pred - y_test)\n",
    "mape = 100 * (errors / y_test)\n",
    "accuracy = 100 - np.mean(mape)\n",
    "print('Accuracy:', round(accuracy, 2), '%.') "
   ]
  },
  {
   "cell_type": "markdown",
   "metadata": {
    "id": "4D-Zgutxf9uG"
   },
   "source": [
    "##### **Result of Predictive Modelling**\n",
    "\n",
    "- Based on the summary of each model performance report, Linear Regression is proved to outperform the SVM, KNN, and Decision Tree since it has the highest accuracy of 100%. There is no error found in the Linear Regression model after trained and tested. \n",
    "\n",
    "- In contrast, KNN has the worst performance in predicting the stock price since the accuracy (98.89%) is the lowest among the four machine learning algorithms. The mean absolute error which represent the difference between the estimated and actual values shows that KNN has the hgihest error (4.61) as compared to the others.\n",
    "\n",
    "- All the models have more than 99% of the variability observed in the target variable is explained by the regression model. \n",
    "\n",
    "- Overall, all the stock price prediction model have a good performance since the accuracy are above 95%."
   ]
  },
  {
   "cell_type": "markdown",
   "metadata": {
    "id": "2X0lb_SlJYtv"
   },
   "source": [
    "#### **K-Fold Cross Validation**"
   ]
  },
  {
   "cell_type": "code",
   "execution_count": 20,
   "metadata": {
    "id": "TOhCma6FIFFI"
   },
   "outputs": [],
   "source": [
    "#import required libraries\n",
    "from sklearn.model_selection import KFold \n",
    "from sklearn.model_selection import cross_val_score\n",
    "from sklearn.model_selection import cross_val_predict"
   ]
  },
  {
   "cell_type": "code",
   "execution_count": 32,
   "metadata": {
    "colab": {
     "base_uri": "https://localhost:8080/"
    },
    "id": "cDyNchyqR8VR",
    "outputId": "975e3476-e594-48b7-c41f-787a54cf8b96"
   },
   "outputs": [
    {
     "name": "stdout",
     "output_type": "stream",
     "text": [
      "Accuracy of Linear Regression:  99.99885187575724\n"
     ]
    }
   ],
   "source": [
    "#prepare the cross-validation procedure \n",
    "#shuffle the data and set k=20 parts\n",
    "kfold = KFold(n_splits=20, random_state=100, shuffle=True)\n",
    "#evaluate model\n",
    "results_kfold = cross_val_score(lr_model, X_test, y_test.astype('int'), cv=kfold)\n",
    "#report performance\n",
    "print(\"Accuracy of Linear Regression: \", results_kfold.mean()*100)"
   ]
  },
  {
   "cell_type": "code",
   "execution_count": 34,
   "metadata": {
    "colab": {
     "base_uri": "https://localhost:8080/"
    },
    "id": "nKLwyeGzMemV",
    "outputId": "d71c067a-0534-4374-c428-18f9841655a5"
   },
   "outputs": [
    {
     "name": "stdout",
     "output_type": "stream",
     "text": [
      "Accuracy of SVM:  99.78436394081565\n"
     ]
    }
   ],
   "source": [
    "svm_kfold = KFold(n_splits=20, random_state=100, shuffle=True)\n",
    "results_kfold = cross_val_score(regr, X_test, y_test.astype('int'), cv=kfold)\n",
    "print(\"Accuracy of SVM: \", results_kfold.mean()*100)"
   ]
  },
  {
   "cell_type": "code",
   "execution_count": 36,
   "metadata": {
    "colab": {
     "base_uri": "https://localhost:8080/"
    },
    "id": "cR_nLS7MUfmY",
    "outputId": "9e16036d-e97c-438e-f58e-95488fd17360"
   },
   "outputs": [
    {
     "name": "stdout",
     "output_type": "stream",
     "text": [
      "Accuracy of Decision Tree:  99.70457267797583\n"
     ]
    }
   ],
   "source": [
    "dt_kfold = KFold(n_splits=20, random_state=100, shuffle=True)\n",
    "results_kfold = cross_val_score(clf, X_test, y_test.astype('int'), cv=kfold)\n",
    "print(\"Accuracy of Decision Tree: \", results_kfold.mean()*100)"
   ]
  },
  {
   "cell_type": "code",
   "execution_count": 35,
   "metadata": {
    "colab": {
     "base_uri": "https://localhost:8080/"
    },
    "id": "53E4rmliUTgf",
    "outputId": "df30d334-892a-49a3-e3ed-90efb47dc43e"
   },
   "outputs": [
    {
     "name": "stdout",
     "output_type": "stream",
     "text": [
      "Accuracy of KNN:  98.23590769073967\n"
     ]
    }
   ],
   "source": [
    "knn_kfold = KFold(n_splits=20, random_state=100, shuffle=True)\n",
    "results_kfold = cross_val_score(knn_model, X_test, y_test.astype('int'), cv=kfold)\n",
    "print(\"Accuracy of KNN: \", results_kfold.mean()*100)"
   ]
  },
  {
   "cell_type": "markdown",
   "metadata": {
    "id": "Ojdu_Mc6fAyS"
   },
   "source": [
    "- Cross validation can helps to improve the model accuracy and avoid problem like overfitting. \n",
    "\n",
    "- This study uses k=20 folds to split the stock data.\n",
    "\n",
    "- The result shows that Linear Regression achieve the highest performance in predicting the Netflix stock price. "
   ]
  },
  {
   "cell_type": "markdown",
   "metadata": {
    "id": "Kz-Uyz4aW0xY"
   },
   "source": [
    "#### **Actual Vs Predicted Stock Price**\n",
    "\n",
    "The bar chart below shows the comparison of actual and predicted Netflix stock price for Linear Regression, SVM, Decision Tree, and SVM."
   ]
  },
  {
   "cell_type": "code",
   "execution_count": 38,
   "metadata": {
    "colab": {
     "base_uri": "https://localhost:8080/",
     "height": 357
    },
    "id": "NbXZn4J9UsU6",
    "outputId": "55ae2425-28fd-4206-ce2c-cf4b828e7748"
   },
   "outputs": [
    {
     "data": {
      "image/png": "[encoded data removed]",
      "text/plain": [
       "<Figure size 1152x576 with 1 Axes>"
      ]
     },
     "metadata": {
      "needs_background": "light"
     },
     "output_type": "display_data"
    }
   ],
   "source": [
    "#plot the actual and predicted stock price value by each machine learning algorithms\n",
    "#only show the top 20 rows data in the bar chart\n",
    "plot_df = pd.DataFrame({'Actual':y_test,'Pred':lr_predict})\n",
    "plot_df.head(20).plot(kind='bar',figsize=(16,8))\n",
    "plt.grid(which='major', linestyle='-', linewidth='0.5', color='green')\n",
    "plt.grid(which='minor', linestyle=':', linewidth='0.5', color='black')\n",
    "plt.title(\"Linear Regression: Actual vs Predicted Value\")\n",
    "plt.show()"
   ]
  },
  {
   "cell_type": "code",
   "execution_count": 39,
   "metadata": {
    "colab": {
     "base_uri": "https://localhost:8080/",
     "height": 357
    },
    "id": "gNP_hkA9VyXu",
    "outputId": "2df378ff-b37d-49f7-f2b3-b44dccece8b8"
   },
   "outputs": [
    {
     "data": {
      "image/png": "[encoded data removed]",
      "text/plain": [
       "<Figure size 1152x576 with 1 Axes>"
      ]
     },
     "metadata": {
      "needs_background": "light"
     },
     "output_type": "display_data"
    }
   ],
   "source": [
    "plot_df = pd.DataFrame({'Actual':y_test,'Pred':svm_predict})\n",
    "plot_df.head(20).plot(kind='bar',figsize=(16,8))\n",
    "plt.grid(which='major', linestyle='-', linewidth='0.5', color='green')\n",
    "plt.grid(which='minor', linestyle=':', linewidth='0.5', color='black')\n",
    "plt.title(\"SVM: Actual vs Predicted Value\")\n",
    "plt.show()"
   ]
  },
  {
   "cell_type": "code",
   "execution_count": 40,
   "metadata": {
    "colab": {
     "base_uri": "https://localhost:8080/",
     "height": 357
    },
    "id": "YSSWnxOxWTec",
    "outputId": "8d2dbef2-165e-41a1-e7bb-7c9b9eec237d"
   },
   "outputs": [
    {
     "data": {
      "image/png": "[encoded data removed]",
      "text/plain": [
       "<Figure size 1152x576 with 1 Axes>"
      ]
     },
     "metadata": {
      "needs_background": "light"
     },
     "output_type": "display_data"
    }
   ],
   "source": [
    "plot_df = pd.DataFrame({'Actual':y_test,'Pred':dt})\n",
    "plot_df.head(20).plot(kind='bar',figsize=(16,8))\n",
    "plt.grid(which='major', linestyle='-', linewidth='0.5', color='green')\n",
    "plt.grid(which='minor', linestyle=':', linewidth='0.5', color='black')\n",
    "plt.title(\"Decision Tree: Actual vs Predicted Value\")\n",
    "plt.show()"
   ]
  },
  {
   "cell_type": "code",
   "execution_count": 42,
   "metadata": {
    "colab": {
     "base_uri": "https://localhost:8080/",
     "height": 357
    },
    "id": "GjhS8IAUWi6l",
    "outputId": "fadcd4e5-af26-4dd8-f6eb-de54b82d43d8"
   },
   "outputs": [
    {
     "data": {
      "image/png": "[encoded data removed]",
      "text/plain": [
       "<Figure size 1152x576 with 1 Axes>"
      ]
     },
     "metadata": {
      "needs_background": "light"
     },
     "output_type": "display_data"
    }
   ],
   "source": [
    "plot_df = pd.DataFrame({'Actual':y_test,'Pred':knn_pred})\n",
    "plot_df.head(20).plot(kind='bar',figsize=(16,8))\n",
    "plt.grid(which='major', linestyle='-', linewidth='0.5', color='green')\n",
    "plt.grid(which='minor', linestyle=':', linewidth='0.5', color='black')\n",
    "plt.title(\"KNN: Actual vs Predicted Value\")\n",
    "plt.show()"
   ]
  },
  {
   "cell_type": "markdown",
   "metadata": {
    "id": "tVamwHYNeKKN"
   },
   "source": [
    "- According to the four bar chart shown above, Linear Regression and Decision Tree seems to have a more accurate prediction as compared to another two machine learning models which is SVM and KNN.\n",
    "\n",
    "- Meanwhile, KNN has the lowest performance in predicting the Netflix stock price since most of the predicted and actual value shown in the graph have a significant difference. "
   ]
  },
  {
   "cell_type": "markdown",
   "metadata": {
    "id": "QMHrhcFbiFgX"
   },
   "source": [
    "#### **Conclusion**\n",
    "\n",
    "- Based on the results obtained from both normal data splitting and cross validation, Linear Regression that has the highest accuracy is the best model to predict the Netflix stock price. \n",
    "- Meanwhile, KNN has the lowest performance as compared to Linear Regression, Decision Tree, and SVM. \n",
    "- The result of using percentage and cross validation to split data are similar.\n",
    "- By using the machine learning algorithms to develop a stock price prediction model, it helps the investors to understand the historical price pattern and provide accurate predictionas a reference for the investors to decide whether to buy or sell the stock. "
   ]
  }
 ],
 "metadata": {
  "colab": {
   "provenance": []
  },
  "kernelspec": {
   "display_name": "Python 3 (ipykernel)",
   "language": "python",
   "name": "python3"
  },
  "language_info": {
   "codemirror_mode": {
    "name": "ipython",
    "version": 3
   },
   "file_extension": ".py",
   "mimetype": "text/x-python",
   "name": "python",
   "nbconvert_exporter": "python",
   "pygments_lexer": "ipython3",
   "version": "3.9.13"
  }
 },
 "nbformat": 4,
 "nbformat_minor": 1
}
